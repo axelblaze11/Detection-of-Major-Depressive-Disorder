{
 "cells": [
  {
   "cell_type": "code",
   "execution_count": 1,
   "metadata": {},
   "outputs": [],
   "source": [
    "import numpy as np  \n",
    "import pandas as pd  "
   ]
  },
  {
   "cell_type": "code",
   "execution_count": 3,
   "metadata": {},
   "outputs": [
    {
     "data": {
      "text/html": [
       "<div>\n",
       "<style scoped>\n",
       "    .dataframe tbody tr th:only-of-type {\n",
       "        vertical-align: middle;\n",
       "    }\n",
       "\n",
       "    .dataframe tbody tr th {\n",
       "        vertical-align: top;\n",
       "    }\n",
       "\n",
       "    .dataframe thead th {\n",
       "        text-align: right;\n",
       "    }\n",
       "</style>\n",
       "<table border=\"1\" class=\"dataframe\">\n",
       "  <thead>\n",
       "    <tr style=\"text-align: right;\">\n",
       "      <th></th>\n",
       "      <th>ch1</th>\n",
       "      <th>ch2</th>\n",
       "      <th>ch3</th>\n",
       "      <th>ch4</th>\n",
       "      <th>ch5</th>\n",
       "      <th>ch6</th>\n",
       "      <th>ch7</th>\n",
       "      <th>ch8</th>\n",
       "      <th>ch9</th>\n",
       "      <th>ch10</th>\n",
       "      <th>ch11</th>\n",
       "      <th>ch12</th>\n",
       "      <th>ch13</th>\n",
       "      <th>ch14</th>\n",
       "      <th>ch15</th>\n",
       "      <th>ch16</th>\n",
       "      <th>ch17</th>\n",
       "      <th>ch18</th>\n",
       "      <th>ch19</th>\n",
       "      <th>Result</th>\n",
       "    </tr>\n",
       "  </thead>\n",
       "  <tbody>\n",
       "    <tr>\n",
       "      <td>0</td>\n",
       "      <td>1.000000</td>\n",
       "      <td>0.000161</td>\n",
       "      <td>0.000002</td>\n",
       "      <td>0.003590</td>\n",
       "      <td>0.002766</td>\n",
       "      <td>0.996329</td>\n",
       "      <td>0.003471</td>\n",
       "      <td>0.996328</td>\n",
       "      <td>0.929128</td>\n",
       "      <td>0.991803</td>\n",
       "      <td>0.999075</td>\n",
       "      <td>0.003813</td>\n",
       "      <td>0.000272</td>\n",
       "      <td>0.006008</td>\n",
       "      <td>0.018586</td>\n",
       "      <td>0.980844</td>\n",
       "      <td>0.019072</td>\n",
       "      <td>0.980852</td>\n",
       "      <td>0.529853</td>\n",
       "      <td>0</td>\n",
       "    </tr>\n",
       "    <tr>\n",
       "      <td>1</td>\n",
       "      <td>0.900743</td>\n",
       "      <td>0.155649</td>\n",
       "      <td>0.000003</td>\n",
       "      <td>0.025983</td>\n",
       "      <td>0.153739</td>\n",
       "      <td>0.851107</td>\n",
       "      <td>0.148887</td>\n",
       "      <td>0.851078</td>\n",
       "      <td>0.929139</td>\n",
       "      <td>0.998793</td>\n",
       "      <td>0.900432</td>\n",
       "      <td>0.153924</td>\n",
       "      <td>0.000011</td>\n",
       "      <td>0.024846</td>\n",
       "      <td>0.164728</td>\n",
       "      <td>0.838194</td>\n",
       "      <td>0.161759</td>\n",
       "      <td>0.838194</td>\n",
       "      <td>0.525993</td>\n",
       "      <td>0</td>\n",
       "    </tr>\n",
       "    <tr>\n",
       "      <td>2</td>\n",
       "      <td>0.821576</td>\n",
       "      <td>0.249583</td>\n",
       "      <td>0.000003</td>\n",
       "      <td>0.023302</td>\n",
       "      <td>0.226832</td>\n",
       "      <td>0.784104</td>\n",
       "      <td>0.215857</td>\n",
       "      <td>0.784060</td>\n",
       "      <td>0.929139</td>\n",
       "      <td>0.998472</td>\n",
       "      <td>0.840509</td>\n",
       "      <td>0.222680</td>\n",
       "      <td>0.000029</td>\n",
       "      <td>0.055637</td>\n",
       "      <td>0.297828</td>\n",
       "      <td>0.704763</td>\n",
       "      <td>0.295206</td>\n",
       "      <td>0.704763</td>\n",
       "      <td>0.526313</td>\n",
       "      <td>1</td>\n",
       "    </tr>\n",
       "    <tr>\n",
       "      <td>3</td>\n",
       "      <td>0.973961</td>\n",
       "      <td>0.051798</td>\n",
       "      <td>0.001622</td>\n",
       "      <td>0.024406</td>\n",
       "      <td>0.107861</td>\n",
       "      <td>0.893625</td>\n",
       "      <td>0.106025</td>\n",
       "      <td>0.893754</td>\n",
       "      <td>0.935717</td>\n",
       "      <td>1.000000</td>\n",
       "      <td>0.935111</td>\n",
       "      <td>0.110128</td>\n",
       "      <td>0.000212</td>\n",
       "      <td>0.018927</td>\n",
       "      <td>0.073097</td>\n",
       "      <td>0.926146</td>\n",
       "      <td>0.073805</td>\n",
       "      <td>0.926151</td>\n",
       "      <td>0.529040</td>\n",
       "      <td>0</td>\n",
       "    </tr>\n",
       "    <tr>\n",
       "      <td>4</td>\n",
       "      <td>0.852021</td>\n",
       "      <td>0.266569</td>\n",
       "      <td>0.028317</td>\n",
       "      <td>0.516520</td>\n",
       "      <td>0.068056</td>\n",
       "      <td>0.803914</td>\n",
       "      <td>0.194078</td>\n",
       "      <td>0.806501</td>\n",
       "      <td>0.981416</td>\n",
       "      <td>0.628486</td>\n",
       "      <td>0.903257</td>\n",
       "      <td>0.202386</td>\n",
       "      <td>0.077599</td>\n",
       "      <td>0.695049</td>\n",
       "      <td>0.135323</td>\n",
       "      <td>0.692614</td>\n",
       "      <td>0.305813</td>\n",
       "      <td>0.694762</td>\n",
       "      <td>0.864017</td>\n",
       "      <td>0</td>\n",
       "    </tr>\n",
       "  </tbody>\n",
       "</table>\n",
       "</div>"
      ],
      "text/plain": [
       "        ch1       ch2       ch3       ch4       ch5       ch6       ch7  \\\n",
       "0  1.000000  0.000161  0.000002  0.003590  0.002766  0.996329  0.003471   \n",
       "1  0.900743  0.155649  0.000003  0.025983  0.153739  0.851107  0.148887   \n",
       "2  0.821576  0.249583  0.000003  0.023302  0.226832  0.784104  0.215857   \n",
       "3  0.973961  0.051798  0.001622  0.024406  0.107861  0.893625  0.106025   \n",
       "4  0.852021  0.266569  0.028317  0.516520  0.068056  0.803914  0.194078   \n",
       "\n",
       "        ch8       ch9      ch10      ch11      ch12      ch13      ch14  \\\n",
       "0  0.996328  0.929128  0.991803  0.999075  0.003813  0.000272  0.006008   \n",
       "1  0.851078  0.929139  0.998793  0.900432  0.153924  0.000011  0.024846   \n",
       "2  0.784060  0.929139  0.998472  0.840509  0.222680  0.000029  0.055637   \n",
       "3  0.893754  0.935717  1.000000  0.935111  0.110128  0.000212  0.018927   \n",
       "4  0.806501  0.981416  0.628486  0.903257  0.202386  0.077599  0.695049   \n",
       "\n",
       "       ch15      ch16      ch17      ch18      ch19  Result  \n",
       "0  0.018586  0.980844  0.019072  0.980852  0.529853       0  \n",
       "1  0.164728  0.838194  0.161759  0.838194  0.525993       0  \n",
       "2  0.297828  0.704763  0.295206  0.704763  0.526313       1  \n",
       "3  0.073097  0.926146  0.073805  0.926151  0.529040       0  \n",
       "4  0.135323  0.692614  0.305813  0.694762  0.864017       0  "
      ]
     },
     "execution_count": 3,
     "metadata": {},
     "output_type": "execute_result"
    }
   ],
   "source": [
    "#importing Dataset\n",
    "dataset = pd.read_excel(r'F:\\Project\\Machine Learning & Artificial Intelligence\\Project 1-Major Depressive Disorder\\Dataset\\beta_power.xlsx')\n",
    "dataset.head()"
   ]
  },
  {
   "cell_type": "code",
   "execution_count": 4,
   "metadata": {},
   "outputs": [
    {
     "data": {
      "text/html": [
       "<div>\n",
       "<style scoped>\n",
       "    .dataframe tbody tr th:only-of-type {\n",
       "        vertical-align: middle;\n",
       "    }\n",
       "\n",
       "    .dataframe tbody tr th {\n",
       "        vertical-align: top;\n",
       "    }\n",
       "\n",
       "    .dataframe thead th {\n",
       "        text-align: right;\n",
       "    }\n",
       "</style>\n",
       "<table border=\"1\" class=\"dataframe\">\n",
       "  <thead>\n",
       "    <tr style=\"text-align: right;\">\n",
       "      <th></th>\n",
       "      <th>ch1</th>\n",
       "      <th>ch2</th>\n",
       "      <th>ch3</th>\n",
       "      <th>ch4</th>\n",
       "      <th>ch5</th>\n",
       "      <th>ch6</th>\n",
       "      <th>ch7</th>\n",
       "      <th>ch8</th>\n",
       "      <th>ch9</th>\n",
       "      <th>ch10</th>\n",
       "      <th>ch11</th>\n",
       "      <th>ch12</th>\n",
       "      <th>ch13</th>\n",
       "      <th>ch14</th>\n",
       "      <th>ch15</th>\n",
       "      <th>ch16</th>\n",
       "      <th>ch17</th>\n",
       "      <th>ch18</th>\n",
       "      <th>ch19</th>\n",
       "    </tr>\n",
       "  </thead>\n",
       "  <tbody>\n",
       "    <tr>\n",
       "      <td>0</td>\n",
       "      <td>1.000000</td>\n",
       "      <td>0.000161</td>\n",
       "      <td>0.000002</td>\n",
       "      <td>0.003590</td>\n",
       "      <td>0.002766</td>\n",
       "      <td>0.996329</td>\n",
       "      <td>0.003471</td>\n",
       "      <td>0.996328</td>\n",
       "      <td>0.929128</td>\n",
       "      <td>0.991803</td>\n",
       "      <td>0.999075</td>\n",
       "      <td>0.003813</td>\n",
       "      <td>0.000272</td>\n",
       "      <td>0.006008</td>\n",
       "      <td>0.018586</td>\n",
       "      <td>0.980844</td>\n",
       "      <td>0.019072</td>\n",
       "      <td>0.980852</td>\n",
       "      <td>0.529853</td>\n",
       "    </tr>\n",
       "    <tr>\n",
       "      <td>1</td>\n",
       "      <td>0.900743</td>\n",
       "      <td>0.155649</td>\n",
       "      <td>0.000003</td>\n",
       "      <td>0.025983</td>\n",
       "      <td>0.153739</td>\n",
       "      <td>0.851107</td>\n",
       "      <td>0.148887</td>\n",
       "      <td>0.851078</td>\n",
       "      <td>0.929139</td>\n",
       "      <td>0.998793</td>\n",
       "      <td>0.900432</td>\n",
       "      <td>0.153924</td>\n",
       "      <td>0.000011</td>\n",
       "      <td>0.024846</td>\n",
       "      <td>0.164728</td>\n",
       "      <td>0.838194</td>\n",
       "      <td>0.161759</td>\n",
       "      <td>0.838194</td>\n",
       "      <td>0.525993</td>\n",
       "    </tr>\n",
       "    <tr>\n",
       "      <td>2</td>\n",
       "      <td>0.821576</td>\n",
       "      <td>0.249583</td>\n",
       "      <td>0.000003</td>\n",
       "      <td>0.023302</td>\n",
       "      <td>0.226832</td>\n",
       "      <td>0.784104</td>\n",
       "      <td>0.215857</td>\n",
       "      <td>0.784060</td>\n",
       "      <td>0.929139</td>\n",
       "      <td>0.998472</td>\n",
       "      <td>0.840509</td>\n",
       "      <td>0.222680</td>\n",
       "      <td>0.000029</td>\n",
       "      <td>0.055637</td>\n",
       "      <td>0.297828</td>\n",
       "      <td>0.704763</td>\n",
       "      <td>0.295206</td>\n",
       "      <td>0.704763</td>\n",
       "      <td>0.526313</td>\n",
       "    </tr>\n",
       "    <tr>\n",
       "      <td>3</td>\n",
       "      <td>0.973961</td>\n",
       "      <td>0.051798</td>\n",
       "      <td>0.001622</td>\n",
       "      <td>0.024406</td>\n",
       "      <td>0.107861</td>\n",
       "      <td>0.893625</td>\n",
       "      <td>0.106025</td>\n",
       "      <td>0.893754</td>\n",
       "      <td>0.935717</td>\n",
       "      <td>1.000000</td>\n",
       "      <td>0.935111</td>\n",
       "      <td>0.110128</td>\n",
       "      <td>0.000212</td>\n",
       "      <td>0.018927</td>\n",
       "      <td>0.073097</td>\n",
       "      <td>0.926146</td>\n",
       "      <td>0.073805</td>\n",
       "      <td>0.926151</td>\n",
       "      <td>0.529040</td>\n",
       "    </tr>\n",
       "    <tr>\n",
       "      <td>4</td>\n",
       "      <td>0.852021</td>\n",
       "      <td>0.266569</td>\n",
       "      <td>0.028317</td>\n",
       "      <td>0.516520</td>\n",
       "      <td>0.068056</td>\n",
       "      <td>0.803914</td>\n",
       "      <td>0.194078</td>\n",
       "      <td>0.806501</td>\n",
       "      <td>0.981416</td>\n",
       "      <td>0.628486</td>\n",
       "      <td>0.903257</td>\n",
       "      <td>0.202386</td>\n",
       "      <td>0.077599</td>\n",
       "      <td>0.695049</td>\n",
       "      <td>0.135323</td>\n",
       "      <td>0.692614</td>\n",
       "      <td>0.305813</td>\n",
       "      <td>0.694762</td>\n",
       "      <td>0.864017</td>\n",
       "    </tr>\n",
       "  </tbody>\n",
       "</table>\n",
       "</div>"
      ],
      "text/plain": [
       "        ch1       ch2       ch3       ch4       ch5       ch6       ch7  \\\n",
       "0  1.000000  0.000161  0.000002  0.003590  0.002766  0.996329  0.003471   \n",
       "1  0.900743  0.155649  0.000003  0.025983  0.153739  0.851107  0.148887   \n",
       "2  0.821576  0.249583  0.000003  0.023302  0.226832  0.784104  0.215857   \n",
       "3  0.973961  0.051798  0.001622  0.024406  0.107861  0.893625  0.106025   \n",
       "4  0.852021  0.266569  0.028317  0.516520  0.068056  0.803914  0.194078   \n",
       "\n",
       "        ch8       ch9      ch10      ch11      ch12      ch13      ch14  \\\n",
       "0  0.996328  0.929128  0.991803  0.999075  0.003813  0.000272  0.006008   \n",
       "1  0.851078  0.929139  0.998793  0.900432  0.153924  0.000011  0.024846   \n",
       "2  0.784060  0.929139  0.998472  0.840509  0.222680  0.000029  0.055637   \n",
       "3  0.893754  0.935717  1.000000  0.935111  0.110128  0.000212  0.018927   \n",
       "4  0.806501  0.981416  0.628486  0.903257  0.202386  0.077599  0.695049   \n",
       "\n",
       "       ch15      ch16      ch17      ch18      ch19  \n",
       "0  0.018586  0.980844  0.019072  0.980852  0.529853  \n",
       "1  0.164728  0.838194  0.161759  0.838194  0.525993  \n",
       "2  0.297828  0.704763  0.295206  0.704763  0.526313  \n",
       "3  0.073097  0.926146  0.073805  0.926151  0.529040  \n",
       "4  0.135323  0.692614  0.305813  0.694762  0.864017  "
      ]
     },
     "execution_count": 4,
     "metadata": {},
     "output_type": "execute_result"
    }
   ],
   "source": [
    "#seeing the charts\n",
    "X=dataset.iloc[:,0:19]\n",
    "X.head()"
   ]
  },
  {
   "cell_type": "code",
   "execution_count": 5,
   "metadata": {},
   "outputs": [
    {
     "data": {
      "text/plain": [
       "0    0\n",
       "1    0\n",
       "2    1\n",
       "3    0\n",
       "4    0\n",
       "Name: Result, dtype: int64"
      ]
     },
     "execution_count": 5,
     "metadata": {},
     "output_type": "execute_result"
    }
   ],
   "source": [
    "y=dataset.iloc[:,19]\n",
    "y.head()"
   ]
  },
  {
   "cell_type": "code",
   "execution_count": 6,
   "metadata": {},
   "outputs": [],
   "source": [
    "from scipy.stats import norm"
   ]
  },
  {
   "cell_type": "code",
   "execution_count": 7,
   "metadata": {},
   "outputs": [
    {
     "data": {
      "text/plain": [
       "ch1    0.750111\n",
       "ch2    0.303748\n",
       "ch3    0.027833\n",
       "ch4    0.081722\n",
       "ch5    0.290667\n",
       "dtype: float64"
      ]
     },
     "execution_count": 7,
     "metadata": {},
     "output_type": "execute_result"
    }
   ],
   "source": [
    "#Apply MLE as Channel Selection\n",
    "mean=X.mean()\n",
    "mean.head()"
   ]
  },
  {
   "cell_type": "code",
   "execution_count": 8,
   "metadata": {},
   "outputs": [
    {
     "data": {
      "text/plain": [
       "ch1    0.248251\n",
       "ch2    0.250744\n",
       "ch3    0.143524\n",
       "ch4    0.151519\n",
       "ch5    0.232438\n",
       "dtype: float64"
      ]
     },
     "execution_count": 8,
     "metadata": {},
     "output_type": "execute_result"
    }
   ],
   "source": [
    "std=X.std()\n",
    "std.head()"
   ]
  },
  {
   "cell_type": "code",
   "execution_count": 10,
   "metadata": {},
   "outputs": [
    {
     "data": {
      "text/plain": [
       "array([[0.84293559, 0.11299687, 0.42312158, ..., 0.12686859, 0.87309249,\n",
       "        0.43113407],\n",
       "       [0.72799835, 0.2773826 , 0.42312526, ..., 0.27834403, 0.72160181,\n",
       "        0.42020612],\n",
       "       [0.61327762, 0.4144882 , 0.42312526, ..., 0.47207185, 0.52785674,\n",
       "        0.42110968],\n",
       "       ...,\n",
       "       [0.67056866, 0.34343868, 0.42313031, ..., 0.28837113, 0.71155337,\n",
       "        0.42016973],\n",
       "       [0.23481334, 0.78347597, 0.42313428, ..., 0.86934123, 0.13059717,\n",
       "        0.42689399],\n",
       "       [0.37906891, 0.65985638, 0.42314248, ..., 0.51733475, 0.48256687,\n",
       "        0.42129246]])"
      ]
     },
     "execution_count": 10,
     "metadata": {},
     "output_type": "execute_result"
    }
   ],
   "source": [
    "normal=norm.cdf(X,loc=mean,scale=std)\n",
    "normal"
   ]
  },
  {
   "cell_type": "code",
   "execution_count": 11,
   "metadata": {},
   "outputs": [
    {
     "data": {
      "text/html": [
       "<div>\n",
       "<style scoped>\n",
       "    .dataframe tbody tr th:only-of-type {\n",
       "        vertical-align: middle;\n",
       "    }\n",
       "\n",
       "    .dataframe tbody tr th {\n",
       "        vertical-align: top;\n",
       "    }\n",
       "\n",
       "    .dataframe thead th {\n",
       "        text-align: right;\n",
       "    }\n",
       "</style>\n",
       "<table border=\"1\" class=\"dataframe\">\n",
       "  <thead>\n",
       "    <tr style=\"text-align: right;\">\n",
       "      <th></th>\n",
       "      <th>0</th>\n",
       "      <th>1</th>\n",
       "      <th>2</th>\n",
       "      <th>3</th>\n",
       "      <th>4</th>\n",
       "      <th>5</th>\n",
       "      <th>6</th>\n",
       "      <th>7</th>\n",
       "      <th>8</th>\n",
       "      <th>9</th>\n",
       "      <th>10</th>\n",
       "      <th>11</th>\n",
       "      <th>12</th>\n",
       "      <th>13</th>\n",
       "      <th>14</th>\n",
       "      <th>15</th>\n",
       "      <th>16</th>\n",
       "      <th>17</th>\n",
       "      <th>18</th>\n",
       "    </tr>\n",
       "  </thead>\n",
       "  <tbody>\n",
       "    <tr>\n",
       "      <td>0</td>\n",
       "      <td>0.842936</td>\n",
       "      <td>0.112997</td>\n",
       "      <td>0.423122</td>\n",
       "      <td>0.303046</td>\n",
       "      <td>0.107744</td>\n",
       "      <td>0.903865</td>\n",
       "      <td>0.097008</td>\n",
       "      <td>0.902961</td>\n",
       "      <td>0.543646</td>\n",
       "      <td>0.591086</td>\n",
       "      <td>0.861525</td>\n",
       "      <td>0.093172</td>\n",
       "      <td>0.405848</td>\n",
       "      <td>0.278856</td>\n",
       "      <td>0.139362</td>\n",
       "      <td>0.873422</td>\n",
       "      <td>0.126869</td>\n",
       "      <td>0.873092</td>\n",
       "      <td>0.431134</td>\n",
       "    </tr>\n",
       "    <tr>\n",
       "      <td>1</td>\n",
       "      <td>0.727998</td>\n",
       "      <td>0.277383</td>\n",
       "      <td>0.423125</td>\n",
       "      <td>0.356485</td>\n",
       "      <td>0.277898</td>\n",
       "      <td>0.741536</td>\n",
       "      <td>0.261377</td>\n",
       "      <td>0.738774</td>\n",
       "      <td>0.543681</td>\n",
       "      <td>0.609889</td>\n",
       "      <td>0.738549</td>\n",
       "      <td>0.258099</td>\n",
       "      <td>0.405268</td>\n",
       "      <td>0.314720</td>\n",
       "      <td>0.300239</td>\n",
       "      <td>0.722608</td>\n",
       "      <td>0.278344</td>\n",
       "      <td>0.721602</td>\n",
       "      <td>0.420206</td>\n",
       "    </tr>\n",
       "    <tr>\n",
       "      <td>2</td>\n",
       "      <td>0.613278</td>\n",
       "      <td>0.414488</td>\n",
       "      <td>0.423125</td>\n",
       "      <td>0.349909</td>\n",
       "      <td>0.391798</td>\n",
       "      <td>0.635143</td>\n",
       "      <td>0.368702</td>\n",
       "      <td>0.631374</td>\n",
       "      <td>0.543681</td>\n",
       "      <td>0.609029</td>\n",
       "      <td>0.643019</td>\n",
       "      <td>0.366438</td>\n",
       "      <td>0.405307</td>\n",
       "      <td>0.377155</td>\n",
       "      <td>0.494348</td>\n",
       "      <td>0.529565</td>\n",
       "      <td>0.472072</td>\n",
       "      <td>0.527857</td>\n",
       "      <td>0.421110</td>\n",
       "    </tr>\n",
       "    <tr>\n",
       "      <td>3</td>\n",
       "      <td>0.816393</td>\n",
       "      <td>0.157495</td>\n",
       "      <td>0.427546</td>\n",
       "      <td>0.352613</td>\n",
       "      <td>0.215795</td>\n",
       "      <td>0.799572</td>\n",
       "      <td>0.202267</td>\n",
       "      <td>0.797634</td>\n",
       "      <td>0.564643</td>\n",
       "      <td>0.613110</td>\n",
       "      <td>0.787126</td>\n",
       "      <td>0.198957</td>\n",
       "      <td>0.405714</td>\n",
       "      <td>0.303239</td>\n",
       "      <td>0.190922</td>\n",
       "      <td>0.824077</td>\n",
       "      <td>0.176448</td>\n",
       "      <td>0.823527</td>\n",
       "      <td>0.428830</td>\n",
       "    </tr>\n",
       "    <tr>\n",
       "      <td>4</td>\n",
       "      <td>0.659285</td>\n",
       "      <td>0.441064</td>\n",
       "      <td>0.501345</td>\n",
       "      <td>0.997945</td>\n",
       "      <td>0.169101</td>\n",
       "      <td>0.668207</td>\n",
       "      <td>0.332110</td>\n",
       "      <td>0.669059</td>\n",
       "      <td>0.702371</td>\n",
       "      <td>0.010717</td>\n",
       "      <td>0.742709</td>\n",
       "      <td>0.332803</td>\n",
       "      <td>0.581720</td>\n",
       "      <td>0.999332</td>\n",
       "      <td>0.262295</td>\n",
       "      <td>0.510832</td>\n",
       "      <td>0.488468</td>\n",
       "      <td>0.512397</td>\n",
       "      <td>0.987458</td>\n",
       "    </tr>\n",
       "  </tbody>\n",
       "</table>\n",
       "</div>"
      ],
      "text/plain": [
       "          0         1         2         3         4         5         6  \\\n",
       "0  0.842936  0.112997  0.423122  0.303046  0.107744  0.903865  0.097008   \n",
       "1  0.727998  0.277383  0.423125  0.356485  0.277898  0.741536  0.261377   \n",
       "2  0.613278  0.414488  0.423125  0.349909  0.391798  0.635143  0.368702   \n",
       "3  0.816393  0.157495  0.427546  0.352613  0.215795  0.799572  0.202267   \n",
       "4  0.659285  0.441064  0.501345  0.997945  0.169101  0.668207  0.332110   \n",
       "\n",
       "          7         8         9        10        11        12        13  \\\n",
       "0  0.902961  0.543646  0.591086  0.861525  0.093172  0.405848  0.278856   \n",
       "1  0.738774  0.543681  0.609889  0.738549  0.258099  0.405268  0.314720   \n",
       "2  0.631374  0.543681  0.609029  0.643019  0.366438  0.405307  0.377155   \n",
       "3  0.797634  0.564643  0.613110  0.787126  0.198957  0.405714  0.303239   \n",
       "4  0.669059  0.702371  0.010717  0.742709  0.332803  0.581720  0.999332   \n",
       "\n",
       "         14        15        16        17        18  \n",
       "0  0.139362  0.873422  0.126869  0.873092  0.431134  \n",
       "1  0.300239  0.722608  0.278344  0.721602  0.420206  \n",
       "2  0.494348  0.529565  0.472072  0.527857  0.421110  \n",
       "3  0.190922  0.824077  0.176448  0.823527  0.428830  \n",
       "4  0.262295  0.510832  0.488468  0.512397  0.987458  "
      ]
     },
     "execution_count": 11,
     "metadata": {},
     "output_type": "execute_result"
    }
   ],
   "source": [
    "df=pd.DataFrame(normal)\n",
    "df.head()"
   ]
  },
  {
   "cell_type": "code",
   "execution_count": 12,
   "metadata": {},
   "outputs": [
    {
     "data": {
      "text/plain": [
       "0     1.222454e-27\n",
       "1     5.949723e-26\n",
       "2     5.676219e-22\n",
       "3     5.154259e-23\n",
       "4     1.102001e-25\n",
       "5     1.723683e-27\n",
       "6     1.145290e-25\n",
       "7     1.630644e-27\n",
       "8     1.088911e-29\n",
       "9     2.584719e-29\n",
       "10    8.820569e-28\n",
       "11    9.406600e-26\n",
       "12    2.376110e-22\n",
       "13    1.481399e-23\n",
       "14    1.202642e-25\n",
       "15    1.683985e-27\n",
       "16    9.992321e-26\n",
       "17    1.650126e-27\n",
       "18    6.156838e-26\n",
       "dtype: float64"
      ]
     },
     "execution_count": 12,
     "metadata": {},
     "output_type": "execute_result"
    }
   ],
   "source": [
    "lh=np.product(df)\n",
    "lh"
   ]
  },
  {
   "cell_type": "code",
   "execution_count": 13,
   "metadata": {},
   "outputs": [
    {
     "data": {
      "text/plain": [
       "0    -61.968937\n",
       "1    -58.083868\n",
       "2    -48.920587\n",
       "3    -51.319634\n",
       "4    -57.467500\n",
       "5    -61.625334\n",
       "6    -57.428969\n",
       "7    -61.680823\n",
       "8    -66.689790\n",
       "9    -65.825351\n",
       "10   -62.295296\n",
       "11   -57.625801\n",
       "12   -49.791407\n",
       "13   -52.566471\n",
       "14   -57.380106\n",
       "15   -61.648634\n",
       "16   -57.565395\n",
       "17   -61.668946\n",
       "18   -58.049649\n",
       "dtype: float64"
      ]
     },
     "execution_count": 13,
     "metadata": {},
     "output_type": "execute_result"
    }
   ],
   "source": [
    "llh=np.log(lh)\n",
    "llh"
   ]
  },
  {
   "cell_type": "code",
   "execution_count": 14,
   "metadata": {},
   "outputs": [
    {
     "data": {
      "text/plain": [
       "-58.049649106406775"
      ]
     },
     "execution_count": 14,
     "metadata": {},
     "output_type": "execute_result"
    }
   ],
   "source": [
    "median=llh.median()\n",
    "median"
   ]
  },
  {
   "cell_type": "code",
   "execution_count": 15,
   "metadata": {},
   "outputs": [],
   "source": [
    "llh=abs(llh)\n",
    "median=abs(median)\n",
    "c=llh.count()\n",
    "n=int(c)\n",
    "a=[]\n",
    "b=[]\n",
    "k=1\n",
    "for i in range(1, n+1):\n",
    "\ta.append(i)\n",
    "if c>10:\n",
    "   ax=5\n",
    "else:\n",
    "   ax=1     "
   ]
  },
  {
   "cell_type": "code",
   "execution_count": 18,
   "metadata": {},
   "outputs": [
    {
     "data": {
      "image/png": "[encoded data removed]",
      "text/plain": [
       "<Figure size 432x288 with 1 Axes>"
      ]
     },
     "metadata": {
      "needs_background": "light"
     },
     "output_type": "display_data"
    }
   ],
   "source": [
    "import matplotlib.pyplot as plt  \n",
    "plt.plot(a,llh, marker='o')\n",
    "plt.xticks(np.arange(0, c+ax,ax))\n",
    "plt.show()"
   ]
  },
  {
   "cell_type": "code",
   "execution_count": 19,
   "metadata": {},
   "outputs": [
    {
     "name": "stdout",
     "output_type": "stream",
     "text": [
      "8  features/attributes selected\n",
      "[2, 6, 8, 9, 10, 11, 16, 18] indices are selected\n"
     ]
    }
   ],
   "source": [
    "for j in range(1, n):\n",
    "    if llh[j]>median:\n",
    "        m=a[j]\n",
    "        b.insert(k,m)\n",
    "        k=k+1\n",
    "print(k-1, \" features/attributes selected\")\n",
    "print(b, \"indices are selected\")"
   ]
  },
  {
   "cell_type": "code",
   "execution_count": 20,
   "metadata": {},
   "outputs": [
    {
     "data": {
      "text/html": [
       "<div>\n",
       "<style scoped>\n",
       "    .dataframe tbody tr th:only-of-type {\n",
       "        vertical-align: middle;\n",
       "    }\n",
       "\n",
       "    .dataframe tbody tr th {\n",
       "        vertical-align: top;\n",
       "    }\n",
       "\n",
       "    .dataframe thead th {\n",
       "        text-align: right;\n",
       "    }\n",
       "</style>\n",
       "<table border=\"1\" class=\"dataframe\">\n",
       "  <thead>\n",
       "    <tr style=\"text-align: right;\">\n",
       "      <th></th>\n",
       "      <th>ch3</th>\n",
       "      <th>ch7</th>\n",
       "      <th>ch9</th>\n",
       "      <th>ch10</th>\n",
       "      <th>ch11</th>\n",
       "      <th>ch12</th>\n",
       "      <th>ch17</th>\n",
       "      <th>ch19</th>\n",
       "    </tr>\n",
       "  </thead>\n",
       "  <tbody>\n",
       "    <tr>\n",
       "      <td>0</td>\n",
       "      <td>0.000002</td>\n",
       "      <td>0.003471</td>\n",
       "      <td>0.929128</td>\n",
       "      <td>0.991803</td>\n",
       "      <td>0.999075</td>\n",
       "      <td>0.003813</td>\n",
       "      <td>0.019072</td>\n",
       "      <td>0.529853</td>\n",
       "    </tr>\n",
       "    <tr>\n",
       "      <td>1</td>\n",
       "      <td>0.000003</td>\n",
       "      <td>0.148887</td>\n",
       "      <td>0.929139</td>\n",
       "      <td>0.998793</td>\n",
       "      <td>0.900432</td>\n",
       "      <td>0.153924</td>\n",
       "      <td>0.161759</td>\n",
       "      <td>0.525993</td>\n",
       "    </tr>\n",
       "    <tr>\n",
       "      <td>2</td>\n",
       "      <td>0.000003</td>\n",
       "      <td>0.215857</td>\n",
       "      <td>0.929139</td>\n",
       "      <td>0.998472</td>\n",
       "      <td>0.840509</td>\n",
       "      <td>0.222680</td>\n",
       "      <td>0.295206</td>\n",
       "      <td>0.526313</td>\n",
       "    </tr>\n",
       "    <tr>\n",
       "      <td>3</td>\n",
       "      <td>0.001622</td>\n",
       "      <td>0.106025</td>\n",
       "      <td>0.935717</td>\n",
       "      <td>1.000000</td>\n",
       "      <td>0.935111</td>\n",
       "      <td>0.110128</td>\n",
       "      <td>0.073805</td>\n",
       "      <td>0.529040</td>\n",
       "    </tr>\n",
       "    <tr>\n",
       "      <td>4</td>\n",
       "      <td>0.028317</td>\n",
       "      <td>0.194078</td>\n",
       "      <td>0.981416</td>\n",
       "      <td>0.628486</td>\n",
       "      <td>0.903257</td>\n",
       "      <td>0.202386</td>\n",
       "      <td>0.305813</td>\n",
       "      <td>0.864017</td>\n",
       "    </tr>\n",
       "  </tbody>\n",
       "</table>\n",
       "</div>"
      ],
      "text/plain": [
       "        ch3       ch7       ch9      ch10      ch11      ch12      ch17  \\\n",
       "0  0.000002  0.003471  0.929128  0.991803  0.999075  0.003813  0.019072   \n",
       "1  0.000003  0.148887  0.929139  0.998793  0.900432  0.153924  0.161759   \n",
       "2  0.000003  0.215857  0.929139  0.998472  0.840509  0.222680  0.295206   \n",
       "3  0.001622  0.106025  0.935717  1.000000  0.935111  0.110128  0.073805   \n",
       "4  0.028317  0.194078  0.981416  0.628486  0.903257  0.202386  0.305813   \n",
       "\n",
       "       ch19  \n",
       "0  0.529853  \n",
       "1  0.525993  \n",
       "2  0.526313  \n",
       "3  0.529040  \n",
       "4  0.864017  "
      ]
     },
     "execution_count": 20,
     "metadata": {},
     "output_type": "execute_result"
    }
   ],
   "source": [
    "X=dataset.iloc[:,b]\n",
    "X.head()"
   ]
  },
  {
   "cell_type": "code",
   "execution_count": 21,
   "metadata": {},
   "outputs": [],
   "source": [
    "#splitting Dataset into train & test sets\n",
    "from sklearn.model_selection import train_test_split\n",
    "X_train, X_test, y_train, y_test = train_test_split(X, y, test_size = 0.20, random_state = 0) "
   ]
  },
  {
   "cell_type": "code",
   "execution_count": 22,
   "metadata": {},
   "outputs": [],
   "source": [
    "#applying MPLNN classifier\n",
    "from sklearn.neural_network import MLPClassifier"
   ]
  },
  {
   "cell_type": "code",
   "execution_count": 50,
   "metadata": {},
   "outputs": [
    {
     "data": {
      "text/plain": [
       "MLPClassifier(activation='relu', alpha=0.0001, batch_size='auto', beta_1=0.9,\n",
       "              beta_2=0.999, early_stopping=False, epsilon=1e-08,\n",
       "              hidden_layer_sizes=(14, 10, 6, 2), learning_rate='constant',\n",
       "              learning_rate_init=0.001, max_iter=1000, momentum=0.9,\n",
       "              n_iter_no_change=10, nesterovs_momentum=True, power_t=0.5,\n",
       "              random_state=None, shuffle=True, solver='adam', tol=0.0001,\n",
       "              validation_fraction=0.1, verbose=False, warm_start=False)"
      ]
     },
     "execution_count": 50,
     "metadata": {},
     "output_type": "execute_result"
    }
   ],
   "source": [
    "mlp = MLPClassifier(activation='relu',hidden_layer_sizes=(14,10,6,2),max_iter=1000,learning_rate='constant')\n",
    "mlp"
   ]
  },
  {
   "cell_type": "code",
   "execution_count": 51,
   "metadata": {},
   "outputs": [
    {
     "data": {
      "text/plain": [
       "array([0, 1, 1, 0, 1, 1, 1, 1, 0, 0, 0, 1], dtype=int64)"
      ]
     },
     "execution_count": 51,
     "metadata": {},
     "output_type": "execute_result"
    }
   ],
   "source": [
    "mlp.fit(X_train,y_train)\n",
    "y_pred = mlp.predict(X_test)\n",
    "y_pred\n"
   ]
  },
  {
   "cell_type": "code",
   "execution_count": 42,
   "metadata": {},
   "outputs": [
    {
     "data": {
      "text/plain": [
       "array([[6, 1],\n",
       "       [0, 5]], dtype=int64)"
      ]
     },
     "execution_count": 42,
     "metadata": {},
     "output_type": "execute_result"
    }
   ],
   "source": [
    "# Making the Confusion Matrix\n",
    "from sklearn.metrics import confusion_matrix\n",
    "cm = confusion_matrix(y_test, y_pred)\n",
    "cm"
   ]
  },
  {
   "cell_type": "code",
   "execution_count": 43,
   "metadata": {},
   "outputs": [
    {
     "name": "stdout",
     "output_type": "stream",
     "text": [
      "[[6 1]\n",
      " [0 5]]\n",
      "Accuracy= 91.66666666666666 %\n",
      "Error= 8.333333333333332 %\n",
      "Sensitivity= 100.0 %\n",
      "Prediction= 85.71428571428571 %\n"
     ]
    }
   ],
   "source": [
    "a=cm[0][0]\n",
    "b=cm[0][1]\n",
    "c=cm[1][0]\n",
    "d=cm[1][1]\n",
    "#calculation Error,Accuracy,Sensitivity and Prediction\n",
    "Err=(b+c)/(a+b+c+d)\n",
    "Acc=(a+d)/(a+b+c+d)\n",
    "SN=a/(a+c)\n",
    "Prec=a/(a+b)\n",
    "print(cm)\n",
    "print('Accuracy=',Acc*100,'%')\n",
    "print('Error=',Err*100,'%')\n",
    "print('Sensitivity=',SN*100,'%')\n",
    "print('Prediction=',Prec*100,'%')"
   ]
  },
  {
   "cell_type": "code",
   "execution_count": null,
   "metadata": {},
   "outputs": [],
   "source": []
  }
 ],
 "metadata": {
  "kernelspec": {
   "display_name": "Python 3",
   "language": "python",
   "name": "python3"
  },
  "language_info": {
   "codemirror_mode": {
    "name": "ipython",
    "version": 3
   },
   "file_extension": ".py",
   "mimetype": "text/x-python",
   "name": "python",
   "nbconvert_exporter": "python",
   "pygments_lexer": "ipython3",
   "version": "3.7.4"
  }
 },
 "nbformat": 4,
 "nbformat_minor": 2
}
