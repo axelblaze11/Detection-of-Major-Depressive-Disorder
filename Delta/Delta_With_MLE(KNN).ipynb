{
 "cells": [
  {
   "cell_type": "code",
   "execution_count": 79,
   "metadata": {},
   "outputs": [],
   "source": [
    "import numpy as np  \n",
    "import pandas as pd  "
   ]
  },
  {
   "cell_type": "code",
   "execution_count": 143,
   "metadata": {},
   "outputs": [
    {
     "data": {
      "text/html": [
       "<div>\n",
       "<style scoped>\n",
       "    .dataframe tbody tr th:only-of-type {\n",
       "        vertical-align: middle;\n",
       "    }\n",
       "\n",
       "    .dataframe tbody tr th {\n",
       "        vertical-align: top;\n",
       "    }\n",
       "\n",
       "    .dataframe thead th {\n",
       "        text-align: right;\n",
       "    }\n",
       "</style>\n",
       "<table border=\"1\" class=\"dataframe\">\n",
       "  <thead>\n",
       "    <tr style=\"text-align: right;\">\n",
       "      <th></th>\n",
       "      <th>ch1</th>\n",
       "      <th>ch2</th>\n",
       "      <th>ch3</th>\n",
       "      <th>ch4</th>\n",
       "      <th>ch5</th>\n",
       "      <th>ch6</th>\n",
       "      <th>ch7</th>\n",
       "      <th>ch8</th>\n",
       "      <th>ch9</th>\n",
       "      <th>ch10</th>\n",
       "      <th>ch11</th>\n",
       "      <th>ch12</th>\n",
       "      <th>ch13</th>\n",
       "      <th>ch14</th>\n",
       "      <th>ch15</th>\n",
       "      <th>ch16</th>\n",
       "      <th>ch17</th>\n",
       "      <th>ch18</th>\n",
       "      <th>ch19</th>\n",
       "      <th>classifier</th>\n",
       "    </tr>\n",
       "  </thead>\n",
       "  <tbody>\n",
       "    <tr>\n",
       "      <td>0</td>\n",
       "      <td>0.000859</td>\n",
       "      <td>0.007251</td>\n",
       "      <td>0.031355</td>\n",
       "      <td>0.969053</td>\n",
       "      <td>0.030961</td>\n",
       "      <td>0.969093</td>\n",
       "      <td>0.923795</td>\n",
       "      <td>0.997378</td>\n",
       "      <td>0.993423</td>\n",
       "      <td>0.033978</td>\n",
       "      <td>0.002136</td>\n",
       "      <td>0.004511</td>\n",
       "      <td>0.009684</td>\n",
       "      <td>0.989910</td>\n",
       "      <td>0.009908</td>\n",
       "      <td>0.989967</td>\n",
       "      <td>0.721588</td>\n",
       "      <td>0.996737</td>\n",
       "      <td>0.996322</td>\n",
       "      <td>0</td>\n",
       "    </tr>\n",
       "    <tr>\n",
       "      <td>1</td>\n",
       "      <td>0.000004</td>\n",
       "      <td>0.019063</td>\n",
       "      <td>0.112936</td>\n",
       "      <td>0.890142</td>\n",
       "      <td>0.109903</td>\n",
       "      <td>0.890142</td>\n",
       "      <td>0.920085</td>\n",
       "      <td>0.999242</td>\n",
       "      <td>0.945558</td>\n",
       "      <td>0.119978</td>\n",
       "      <td>0.000006</td>\n",
       "      <td>0.021626</td>\n",
       "      <td>0.122571</td>\n",
       "      <td>0.881118</td>\n",
       "      <td>0.118815</td>\n",
       "      <td>0.881117</td>\n",
       "      <td>0.705132</td>\n",
       "      <td>0.999314</td>\n",
       "      <td>0.926128</td>\n",
       "      <td>0</td>\n",
       "    </tr>\n",
       "    <tr>\n",
       "      <td>2</td>\n",
       "      <td>0.000012</td>\n",
       "      <td>0.042204</td>\n",
       "      <td>0.196819</td>\n",
       "      <td>0.806375</td>\n",
       "      <td>0.193586</td>\n",
       "      <td>0.806375</td>\n",
       "      <td>0.920142</td>\n",
       "      <td>0.996710</td>\n",
       "      <td>0.880374</td>\n",
       "      <td>0.210215</td>\n",
       "      <td>0.000013</td>\n",
       "      <td>0.039009</td>\n",
       "      <td>0.178987</td>\n",
       "      <td>0.824861</td>\n",
       "      <td>0.174958</td>\n",
       "      <td>0.824861</td>\n",
       "      <td>0.705226</td>\n",
       "      <td>0.998066</td>\n",
       "      <td>0.881943</td>\n",
       "      <td>1</td>\n",
       "    </tr>\n",
       "    <tr>\n",
       "      <td>3</td>\n",
       "      <td>0.000051</td>\n",
       "      <td>0.009729</td>\n",
       "      <td>0.050948</td>\n",
       "      <td>0.950224</td>\n",
       "      <td>0.049838</td>\n",
       "      <td>0.950226</td>\n",
       "      <td>0.920380</td>\n",
       "      <td>0.997855</td>\n",
       "      <td>0.984149</td>\n",
       "      <td>0.054583</td>\n",
       "      <td>0.000474</td>\n",
       "      <td>0.014549</td>\n",
       "      <td>0.047543</td>\n",
       "      <td>0.952641</td>\n",
       "      <td>0.047267</td>\n",
       "      <td>0.952653</td>\n",
       "      <td>0.709674</td>\n",
       "      <td>0.998886</td>\n",
       "      <td>0.976715</td>\n",
       "      <td>0</td>\n",
       "    </tr>\n",
       "    <tr>\n",
       "      <td>4</td>\n",
       "      <td>0.119989</td>\n",
       "      <td>1.000000</td>\n",
       "      <td>0.139289</td>\n",
       "      <td>0.635711</td>\n",
       "      <td>0.358702</td>\n",
       "      <td>0.641380</td>\n",
       "      <td>1.000000</td>\n",
       "      <td>0.000000</td>\n",
       "      <td>0.768229</td>\n",
       "      <td>0.390370</td>\n",
       "      <td>0.309826</td>\n",
       "      <td>1.000000</td>\n",
       "      <td>0.067497</td>\n",
       "      <td>0.734294</td>\n",
       "      <td>0.257425</td>\n",
       "      <td>0.742593</td>\n",
       "      <td>0.986523</td>\n",
       "      <td>0.000000</td>\n",
       "      <td>0.843195</td>\n",
       "      <td>0</td>\n",
       "    </tr>\n",
       "  </tbody>\n",
       "</table>\n",
       "</div>"
      ],
      "text/plain": [
       "        ch1       ch2       ch3       ch4       ch5       ch6       ch7  \\\n",
       "0  0.000859  0.007251  0.031355  0.969053  0.030961  0.969093  0.923795   \n",
       "1  0.000004  0.019063  0.112936  0.890142  0.109903  0.890142  0.920085   \n",
       "2  0.000012  0.042204  0.196819  0.806375  0.193586  0.806375  0.920142   \n",
       "3  0.000051  0.009729  0.050948  0.950224  0.049838  0.950226  0.920380   \n",
       "4  0.119989  1.000000  0.139289  0.635711  0.358702  0.641380  1.000000   \n",
       "\n",
       "        ch8       ch9      ch10      ch11      ch12      ch13      ch14  \\\n",
       "0  0.997378  0.993423  0.033978  0.002136  0.004511  0.009684  0.989910   \n",
       "1  0.999242  0.945558  0.119978  0.000006  0.021626  0.122571  0.881118   \n",
       "2  0.996710  0.880374  0.210215  0.000013  0.039009  0.178987  0.824861   \n",
       "3  0.997855  0.984149  0.054583  0.000474  0.014549  0.047543  0.952641   \n",
       "4  0.000000  0.768229  0.390370  0.309826  1.000000  0.067497  0.734294   \n",
       "\n",
       "       ch15      ch16      ch17      ch18      ch19  classifier  \n",
       "0  0.009908  0.989967  0.721588  0.996737  0.996322           0  \n",
       "1  0.118815  0.881117  0.705132  0.999314  0.926128           0  \n",
       "2  0.174958  0.824861  0.705226  0.998066  0.881943           1  \n",
       "3  0.047267  0.952653  0.709674  0.998886  0.976715           0  \n",
       "4  0.257425  0.742593  0.986523  0.000000  0.843195           0  "
      ]
     },
     "execution_count": 143,
     "metadata": {},
     "output_type": "execute_result"
    }
   ],
   "source": [
    "#importing Dataset\n",
    "dataset = pd.read_excel(r'F:\\Project\\Machine Learning & Artificial Intelligence\\Project 1-Major Depressive Disorder\\Dataset\\delta_pow.xlsx')\n",
    "dataset.head()"
   ]
  },
  {
   "cell_type": "code",
   "execution_count": 144,
   "metadata": {},
   "outputs": [
    {
     "data": {
      "text/html": [
       "<div>\n",
       "<style scoped>\n",
       "    .dataframe tbody tr th:only-of-type {\n",
       "        vertical-align: middle;\n",
       "    }\n",
       "\n",
       "    .dataframe tbody tr th {\n",
       "        vertical-align: top;\n",
       "    }\n",
       "\n",
       "    .dataframe thead th {\n",
       "        text-align: right;\n",
       "    }\n",
       "</style>\n",
       "<table border=\"1\" class=\"dataframe\">\n",
       "  <thead>\n",
       "    <tr style=\"text-align: right;\">\n",
       "      <th></th>\n",
       "      <th>ch1</th>\n",
       "      <th>ch2</th>\n",
       "      <th>ch3</th>\n",
       "      <th>ch4</th>\n",
       "      <th>ch5</th>\n",
       "      <th>ch6</th>\n",
       "      <th>ch7</th>\n",
       "      <th>ch8</th>\n",
       "      <th>ch9</th>\n",
       "      <th>ch10</th>\n",
       "      <th>ch11</th>\n",
       "      <th>ch12</th>\n",
       "      <th>ch13</th>\n",
       "      <th>ch14</th>\n",
       "      <th>ch15</th>\n",
       "      <th>ch16</th>\n",
       "      <th>ch17</th>\n",
       "      <th>ch18</th>\n",
       "      <th>ch19</th>\n",
       "    </tr>\n",
       "  </thead>\n",
       "  <tbody>\n",
       "    <tr>\n",
       "      <td>0</td>\n",
       "      <td>0.000859</td>\n",
       "      <td>0.007251</td>\n",
       "      <td>0.031355</td>\n",
       "      <td>0.969053</td>\n",
       "      <td>0.030961</td>\n",
       "      <td>0.969093</td>\n",
       "      <td>0.923795</td>\n",
       "      <td>0.997378</td>\n",
       "      <td>0.993423</td>\n",
       "      <td>0.033978</td>\n",
       "      <td>0.002136</td>\n",
       "      <td>0.004511</td>\n",
       "      <td>0.009684</td>\n",
       "      <td>0.989910</td>\n",
       "      <td>0.009908</td>\n",
       "      <td>0.989967</td>\n",
       "      <td>0.721588</td>\n",
       "      <td>0.996737</td>\n",
       "      <td>0.996322</td>\n",
       "    </tr>\n",
       "    <tr>\n",
       "      <td>1</td>\n",
       "      <td>0.000004</td>\n",
       "      <td>0.019063</td>\n",
       "      <td>0.112936</td>\n",
       "      <td>0.890142</td>\n",
       "      <td>0.109903</td>\n",
       "      <td>0.890142</td>\n",
       "      <td>0.920085</td>\n",
       "      <td>0.999242</td>\n",
       "      <td>0.945558</td>\n",
       "      <td>0.119978</td>\n",
       "      <td>0.000006</td>\n",
       "      <td>0.021626</td>\n",
       "      <td>0.122571</td>\n",
       "      <td>0.881118</td>\n",
       "      <td>0.118815</td>\n",
       "      <td>0.881117</td>\n",
       "      <td>0.705132</td>\n",
       "      <td>0.999314</td>\n",
       "      <td>0.926128</td>\n",
       "    </tr>\n",
       "    <tr>\n",
       "      <td>2</td>\n",
       "      <td>0.000012</td>\n",
       "      <td>0.042204</td>\n",
       "      <td>0.196819</td>\n",
       "      <td>0.806375</td>\n",
       "      <td>0.193586</td>\n",
       "      <td>0.806375</td>\n",
       "      <td>0.920142</td>\n",
       "      <td>0.996710</td>\n",
       "      <td>0.880374</td>\n",
       "      <td>0.210215</td>\n",
       "      <td>0.000013</td>\n",
       "      <td>0.039009</td>\n",
       "      <td>0.178987</td>\n",
       "      <td>0.824861</td>\n",
       "      <td>0.174958</td>\n",
       "      <td>0.824861</td>\n",
       "      <td>0.705226</td>\n",
       "      <td>0.998066</td>\n",
       "      <td>0.881943</td>\n",
       "    </tr>\n",
       "    <tr>\n",
       "      <td>3</td>\n",
       "      <td>0.000051</td>\n",
       "      <td>0.009729</td>\n",
       "      <td>0.050948</td>\n",
       "      <td>0.950224</td>\n",
       "      <td>0.049838</td>\n",
       "      <td>0.950226</td>\n",
       "      <td>0.920380</td>\n",
       "      <td>0.997855</td>\n",
       "      <td>0.984149</td>\n",
       "      <td>0.054583</td>\n",
       "      <td>0.000474</td>\n",
       "      <td>0.014549</td>\n",
       "      <td>0.047543</td>\n",
       "      <td>0.952641</td>\n",
       "      <td>0.047267</td>\n",
       "      <td>0.952653</td>\n",
       "      <td>0.709674</td>\n",
       "      <td>0.998886</td>\n",
       "      <td>0.976715</td>\n",
       "    </tr>\n",
       "    <tr>\n",
       "      <td>4</td>\n",
       "      <td>0.119989</td>\n",
       "      <td>1.000000</td>\n",
       "      <td>0.139289</td>\n",
       "      <td>0.635711</td>\n",
       "      <td>0.358702</td>\n",
       "      <td>0.641380</td>\n",
       "      <td>1.000000</td>\n",
       "      <td>0.000000</td>\n",
       "      <td>0.768229</td>\n",
       "      <td>0.390370</td>\n",
       "      <td>0.309826</td>\n",
       "      <td>1.000000</td>\n",
       "      <td>0.067497</td>\n",
       "      <td>0.734294</td>\n",
       "      <td>0.257425</td>\n",
       "      <td>0.742593</td>\n",
       "      <td>0.986523</td>\n",
       "      <td>0.000000</td>\n",
       "      <td>0.843195</td>\n",
       "    </tr>\n",
       "  </tbody>\n",
       "</table>\n",
       "</div>"
      ],
      "text/plain": [
       "        ch1       ch2       ch3       ch4       ch5       ch6       ch7  \\\n",
       "0  0.000859  0.007251  0.031355  0.969053  0.030961  0.969093  0.923795   \n",
       "1  0.000004  0.019063  0.112936  0.890142  0.109903  0.890142  0.920085   \n",
       "2  0.000012  0.042204  0.196819  0.806375  0.193586  0.806375  0.920142   \n",
       "3  0.000051  0.009729  0.050948  0.950224  0.049838  0.950226  0.920380   \n",
       "4  0.119989  1.000000  0.139289  0.635711  0.358702  0.641380  1.000000   \n",
       "\n",
       "        ch8       ch9      ch10      ch11      ch12      ch13      ch14  \\\n",
       "0  0.997378  0.993423  0.033978  0.002136  0.004511  0.009684  0.989910   \n",
       "1  0.999242  0.945558  0.119978  0.000006  0.021626  0.122571  0.881118   \n",
       "2  0.996710  0.880374  0.210215  0.000013  0.039009  0.178987  0.824861   \n",
       "3  0.997855  0.984149  0.054583  0.000474  0.014549  0.047543  0.952641   \n",
       "4  0.000000  0.768229  0.390370  0.309826  1.000000  0.067497  0.734294   \n",
       "\n",
       "       ch15      ch16      ch17      ch18      ch19  \n",
       "0  0.009908  0.989967  0.721588  0.996737  0.996322  \n",
       "1  0.118815  0.881117  0.705132  0.999314  0.926128  \n",
       "2  0.174958  0.824861  0.705226  0.998066  0.881943  \n",
       "3  0.047267  0.952653  0.709674  0.998886  0.976715  \n",
       "4  0.257425  0.742593  0.986523  0.000000  0.843195  "
      ]
     },
     "execution_count": 144,
     "metadata": {},
     "output_type": "execute_result"
    }
   ],
   "source": [
    "#seeing the charts\n",
    "X=dataset.iloc[:,0:19]\n",
    "X.head()"
   ]
  },
  {
   "cell_type": "code",
   "execution_count": 145,
   "metadata": {
    "scrolled": true
   },
   "outputs": [
    {
     "data": {
      "text/plain": [
       "0    0\n",
       "1    0\n",
       "2    1\n",
       "3    0\n",
       "4    0\n",
       "Name: classifier, dtype: int64"
      ]
     },
     "execution_count": 145,
     "metadata": {},
     "output_type": "execute_result"
    }
   ],
   "source": [
    "y=dataset.iloc[:,19]\n",
    "y.head()"
   ]
  },
  {
   "cell_type": "code",
   "execution_count": 146,
   "metadata": {},
   "outputs": [],
   "source": [
    "from scipy.stats import norm"
   ]
  },
  {
   "cell_type": "code",
   "execution_count": 147,
   "metadata": {},
   "outputs": [
    {
     "data": {
      "text/plain": [
       "ch1    0.026200\n",
       "ch2    0.083732\n",
       "ch3    0.230030\n",
       "ch4    0.764660\n",
       "ch5    0.234114\n",
       "dtype: float64"
      ]
     },
     "execution_count": 147,
     "metadata": {},
     "output_type": "execute_result"
    }
   ],
   "source": [
    "#Apply MLE as Channel Selection\n",
    "mean=X.mean()\n",
    "mean.head()"
   ]
  },
  {
   "cell_type": "code",
   "execution_count": 148,
   "metadata": {},
   "outputs": [
    {
     "data": {
      "text/plain": [
       "ch1    0.133380\n",
       "ch2    0.144143\n",
       "ch3    0.214471\n",
       "ch4    0.212842\n",
       "ch5    0.212788\n",
       "dtype: float64"
      ]
     },
     "execution_count": 148,
     "metadata": {},
     "output_type": "execute_result"
    }
   ],
   "source": [
    "std=X.std()\n",
    "std.head()"
   ]
  },
  {
   "cell_type": "code",
   "execution_count": 149,
   "metadata": {},
   "outputs": [
    {
     "data": {
      "text/plain": [
       "array([[0.42466055, 0.29785088, 0.1771324 , ..., 0.52113999, 0.62078978,\n",
       "        0.82060722],\n",
       "       [0.42215024, 0.32684514, 0.29254397, ..., 0.46302673, 0.62626465,\n",
       "        0.72402062],\n",
       "       [0.42217383, 0.38663344, 0.43846952, ..., 0.46335782, 0.62361632,\n",
       "        0.65232415],\n",
       "       ...,\n",
       "       [0.42215462, 0.34246113, 0.34971395, ..., 0.46323927, 0.6259123 ,\n",
       "        0.70941022],\n",
       "       [0.42217555, 0.43202426, 0.58005826, ..., 0.46510228, 0.54558267,\n",
       "        0.19450494],\n",
       "       [0.42216731, 0.37905384, 0.4096899 , ..., 0.46431145, 0.58804851,\n",
       "        0.42102667]])"
      ]
     },
     "execution_count": 149,
     "metadata": {},
     "output_type": "execute_result"
    }
   ],
   "source": [
    "normal=norm.cdf(X,loc=mean,scale=std)\n",
    "normal"
   ]
  },
  {
   "cell_type": "code",
   "execution_count": 150,
   "metadata": {},
   "outputs": [
    {
     "data": {
      "text/html": [
       "<div>\n",
       "<style scoped>\n",
       "    .dataframe tbody tr th:only-of-type {\n",
       "        vertical-align: middle;\n",
       "    }\n",
       "\n",
       "    .dataframe tbody tr th {\n",
       "        vertical-align: top;\n",
       "    }\n",
       "\n",
       "    .dataframe thead th {\n",
       "        text-align: right;\n",
       "    }\n",
       "</style>\n",
       "<table border=\"1\" class=\"dataframe\">\n",
       "  <thead>\n",
       "    <tr style=\"text-align: right;\">\n",
       "      <th></th>\n",
       "      <th>0</th>\n",
       "      <th>1</th>\n",
       "      <th>2</th>\n",
       "      <th>3</th>\n",
       "      <th>4</th>\n",
       "      <th>5</th>\n",
       "      <th>6</th>\n",
       "      <th>7</th>\n",
       "      <th>8</th>\n",
       "      <th>9</th>\n",
       "      <th>10</th>\n",
       "      <th>11</th>\n",
       "      <th>12</th>\n",
       "      <th>13</th>\n",
       "      <th>14</th>\n",
       "      <th>15</th>\n",
       "      <th>16</th>\n",
       "      <th>17</th>\n",
       "      <th>18</th>\n",
       "    </tr>\n",
       "  </thead>\n",
       "  <tbody>\n",
       "    <tr>\n",
       "      <td>0</td>\n",
       "      <td>0.424661</td>\n",
       "      <td>0.297851</td>\n",
       "      <td>0.177132</td>\n",
       "      <td>0.831548</td>\n",
       "      <td>0.169859</td>\n",
       "      <td>0.830210</td>\n",
       "      <td>0.540536</td>\n",
       "      <td>6.099881e-01</td>\n",
       "      <td>0.781962</td>\n",
       "      <td>0.159130</td>\n",
       "      <td>0.394781</td>\n",
       "      <td>0.286310</td>\n",
       "      <td>0.143375</td>\n",
       "      <td>0.865870</td>\n",
       "      <td>0.133491</td>\n",
       "      <td>0.866521</td>\n",
       "      <td>0.521140</td>\n",
       "      <td>6.207898e-01</td>\n",
       "      <td>0.820607</td>\n",
       "    </tr>\n",
       "    <tr>\n",
       "      <td>1</td>\n",
       "      <td>0.422150</td>\n",
       "      <td>0.326845</td>\n",
       "      <td>0.292544</td>\n",
       "      <td>0.722256</td>\n",
       "      <td>0.279700</td>\n",
       "      <td>0.720368</td>\n",
       "      <td>0.528346</td>\n",
       "      <td>6.152075e-01</td>\n",
       "      <td>0.710005</td>\n",
       "      <td>0.273891</td>\n",
       "      <td>0.389933</td>\n",
       "      <td>0.318867</td>\n",
       "      <td>0.286091</td>\n",
       "      <td>0.731559</td>\n",
       "      <td>0.268843</td>\n",
       "      <td>0.731231</td>\n",
       "      <td>0.463027</td>\n",
       "      <td>6.262647e-01</td>\n",
       "      <td>0.724021</td>\n",
       "    </tr>\n",
       "    <tr>\n",
       "      <td>2</td>\n",
       "      <td>0.422174</td>\n",
       "      <td>0.386633</td>\n",
       "      <td>0.438470</td>\n",
       "      <td>0.577692</td>\n",
       "      <td>0.424473</td>\n",
       "      <td>0.575440</td>\n",
       "      <td>0.528534</td>\n",
       "      <td>6.081135e-01</td>\n",
       "      <td>0.597310</td>\n",
       "      <td>0.426779</td>\n",
       "      <td>0.389948</td>\n",
       "      <td>0.353428</td>\n",
       "      <td>0.376477</td>\n",
       "      <td>0.642217</td>\n",
       "      <td>0.358751</td>\n",
       "      <td>0.641120</td>\n",
       "      <td>0.463358</td>\n",
       "      <td>6.236163e-01</td>\n",
       "      <td>0.652324</td>\n",
       "    </tr>\n",
       "    <tr>\n",
       "      <td>3</td>\n",
       "      <td>0.422288</td>\n",
       "      <td>0.303837</td>\n",
       "      <td>0.201861</td>\n",
       "      <td>0.808352</td>\n",
       "      <td>0.193243</td>\n",
       "      <td>0.806844</td>\n",
       "      <td>0.529316</td>\n",
       "      <td>6.113274e-01</td>\n",
       "      <td>0.768877</td>\n",
       "      <td>0.183281</td>\n",
       "      <td>0.390995</td>\n",
       "      <td>0.305215</td>\n",
       "      <td>0.184740</td>\n",
       "      <td>0.826230</td>\n",
       "      <td>0.173436</td>\n",
       "      <td>0.826623</td>\n",
       "      <td>0.479041</td>\n",
       "      <td>6.253572e-01</td>\n",
       "      <td>0.796024</td>\n",
       "    </tr>\n",
       "    <tr>\n",
       "      <td>4</td>\n",
       "      <td>0.759026</td>\n",
       "      <td>1.000000</td>\n",
       "      <td>0.336114</td>\n",
       "      <td>0.272309</td>\n",
       "      <td>0.720896</td>\n",
       "      <td>0.279201</td>\n",
       "      <td>0.767835</td>\n",
       "      <td>1.176627e-12</td>\n",
       "      <td>0.389048</td>\n",
       "      <td>0.741172</td>\n",
       "      <td>0.940056</td>\n",
       "      <td>0.999999</td>\n",
       "      <td>0.209261</td>\n",
       "      <td>0.482795</td>\n",
       "      <td>0.504812</td>\n",
       "      <td>0.495384</td>\n",
       "      <td>0.991819</td>\n",
       "      <td>6.784898e-08</td>\n",
       "      <td>0.584486</td>\n",
       "    </tr>\n",
       "  </tbody>\n",
       "</table>\n",
       "</div>"
      ],
      "text/plain": [
       "          0         1         2         3         4         5         6  \\\n",
       "0  0.424661  0.297851  0.177132  0.831548  0.169859  0.830210  0.540536   \n",
       "1  0.422150  0.326845  0.292544  0.722256  0.279700  0.720368  0.528346   \n",
       "2  0.422174  0.386633  0.438470  0.577692  0.424473  0.575440  0.528534   \n",
       "3  0.422288  0.303837  0.201861  0.808352  0.193243  0.806844  0.529316   \n",
       "4  0.759026  1.000000  0.336114  0.272309  0.720896  0.279201  0.767835   \n",
       "\n",
       "              7         8         9        10        11        12        13  \\\n",
       "0  6.099881e-01  0.781962  0.159130  0.394781  0.286310  0.143375  0.865870   \n",
       "1  6.152075e-01  0.710005  0.273891  0.389933  0.318867  0.286091  0.731559   \n",
       "2  6.081135e-01  0.597310  0.426779  0.389948  0.353428  0.376477  0.642217   \n",
       "3  6.113274e-01  0.768877  0.183281  0.390995  0.305215  0.184740  0.826230   \n",
       "4  1.176627e-12  0.389048  0.741172  0.940056  0.999999  0.209261  0.482795   \n",
       "\n",
       "         14        15        16            17        18  \n",
       "0  0.133491  0.866521  0.521140  6.207898e-01  0.820607  \n",
       "1  0.268843  0.731231  0.463027  6.262647e-01  0.724021  \n",
       "2  0.358751  0.641120  0.463358  6.236163e-01  0.652324  \n",
       "3  0.173436  0.826623  0.479041  6.253572e-01  0.796024  \n",
       "4  0.504812  0.495384  0.991819  6.784898e-08  0.584486  "
      ]
     },
     "execution_count": 150,
     "metadata": {},
     "output_type": "execute_result"
    }
   ],
   "source": [
    "df=pd.DataFrame(normal)\n",
    "df.head()"
   ]
  },
  {
   "cell_type": "code",
   "execution_count": 151,
   "metadata": {},
   "outputs": [
    {
     "data": {
      "text/plain": [
       "0     1.045514e-21\n",
       "1     6.894059e-23\n",
       "2     7.874622e-25\n",
       "3     5.093424e-28\n",
       "4     7.565837e-25\n",
       "5     4.984051e-28\n",
       "6     8.926668e-30\n",
       "7     1.867560e-29\n",
       "8     2.728511e-28\n",
       "9     5.164335e-25\n",
       "10    5.964451e-23\n",
       "11    2.621182e-23\n",
       "12    3.038985e-25\n",
       "13    8.227365e-28\n",
       "14    3.179207e-25\n",
       "15    8.319427e-28\n",
       "16    4.586097e-28\n",
       "17    3.531666e-29\n",
       "18    4.617443e-28\n",
       "dtype: float64"
      ]
     },
     "execution_count": 151,
     "metadata": {},
     "output_type": "execute_result"
    }
   ],
   "source": [
    "lh=np.product(df)\n",
    "lh"
   ]
  },
  {
   "cell_type": "code",
   "execution_count": 152,
   "metadata": {},
   "outputs": [
    {
     "data": {
      "text/plain": [
       "0    -48.309778\n",
       "1    -51.028797\n",
       "2    -55.500982\n",
       "3    -62.844432\n",
       "4    -55.540984\n",
       "5    -62.866140\n",
       "6    -66.888510\n",
       "7    -66.150335\n",
       "8    -63.468627\n",
       "9    -55.922851\n",
       "10   -51.173640\n",
       "11   -51.995832\n",
       "12   -56.453104\n",
       "13   -62.364917\n",
       "14   -56.407995\n",
       "15   -62.353789\n",
       "16   -62.949353\n",
       "17   -65.513198\n",
       "18   -62.942542\n",
       "dtype: float64"
      ]
     },
     "execution_count": 152,
     "metadata": {},
     "output_type": "execute_result"
    }
   ],
   "source": [
    "llh=np.log(lh)\n",
    "llh"
   ]
  },
  {
   "cell_type": "code",
   "execution_count": 153,
   "metadata": {},
   "outputs": [
    {
     "data": {
      "text/plain": [
       "-62.353789235482964"
      ]
     },
     "execution_count": 153,
     "metadata": {},
     "output_type": "execute_result"
    }
   ],
   "source": [
    "median=llh.median()\n",
    "median"
   ]
  },
  {
   "cell_type": "code",
   "execution_count": 154,
   "metadata": {},
   "outputs": [],
   "source": [
    "llh=abs(llh)\n",
    "median=abs(median)\n",
    "c=llh.count()\n",
    "n=int(c)\n",
    "a=[]\n",
    "b=[]\n",
    "k=1\n",
    "for i in range(1, n+1):\n",
    "\ta.append(i)\n",
    "if c>10:\n",
    "   ax=5\n",
    "else:\n",
    "   ax=1     "
   ]
  },
  {
   "cell_type": "code",
   "execution_count": 155,
   "metadata": {},
   "outputs": [
    {
     "data": {
      "image/png": "[encoded data removed]",
      "text/plain": [
       "<Figure size 432x288 with 1 Axes>"
      ]
     },
     "metadata": {
      "needs_background": "light"
     },
     "output_type": "display_data"
    }
   ],
   "source": [
    "import matplotlib.pyplot as plt  \n",
    "plt.plot(a,llh, marker='o')\n",
    "plt.xticks(np.arange(0, c+ax,ax))\n",
    "plt.show()"
   ]
  },
  {
   "cell_type": "code",
   "execution_count": 156,
   "metadata": {},
   "outputs": [
    {
     "name": "stdout",
     "output_type": "stream",
     "text": [
      "9  features/attributes selected\n",
      "[4, 6, 7, 8, 9, 14, 17, 18, 19] indices are selected\n"
     ]
    }
   ],
   "source": [
    "for j in range(1, n):\n",
    "    if llh[j]>median:\n",
    "        m=a[j]\n",
    "        b.insert(k,m)\n",
    "        k=k+1\n",
    "print(k-1, \" features/attributes selected\")\n",
    "print(b, \"indices are selected\")"
   ]
  },
  {
   "cell_type": "code",
   "execution_count": 157,
   "metadata": {},
   "outputs": [
    {
     "data": {
      "text/html": [
       "<div>\n",
       "<style scoped>\n",
       "    .dataframe tbody tr th:only-of-type {\n",
       "        vertical-align: middle;\n",
       "    }\n",
       "\n",
       "    .dataframe tbody tr th {\n",
       "        vertical-align: top;\n",
       "    }\n",
       "\n",
       "    .dataframe thead th {\n",
       "        text-align: right;\n",
       "    }\n",
       "</style>\n",
       "<table border=\"1\" class=\"dataframe\">\n",
       "  <thead>\n",
       "    <tr style=\"text-align: right;\">\n",
       "      <th></th>\n",
       "      <th>ch5</th>\n",
       "      <th>ch7</th>\n",
       "      <th>ch8</th>\n",
       "      <th>ch9</th>\n",
       "      <th>ch10</th>\n",
       "      <th>ch15</th>\n",
       "      <th>ch18</th>\n",
       "      <th>ch19</th>\n",
       "      <th>classifier</th>\n",
       "    </tr>\n",
       "  </thead>\n",
       "  <tbody>\n",
       "    <tr>\n",
       "      <td>0</td>\n",
       "      <td>0.030961</td>\n",
       "      <td>0.923795</td>\n",
       "      <td>0.997378</td>\n",
       "      <td>0.993423</td>\n",
       "      <td>0.033978</td>\n",
       "      <td>0.009908</td>\n",
       "      <td>0.996737</td>\n",
       "      <td>0.996322</td>\n",
       "      <td>0</td>\n",
       "    </tr>\n",
       "    <tr>\n",
       "      <td>1</td>\n",
       "      <td>0.109903</td>\n",
       "      <td>0.920085</td>\n",
       "      <td>0.999242</td>\n",
       "      <td>0.945558</td>\n",
       "      <td>0.119978</td>\n",
       "      <td>0.118815</td>\n",
       "      <td>0.999314</td>\n",
       "      <td>0.926128</td>\n",
       "      <td>0</td>\n",
       "    </tr>\n",
       "    <tr>\n",
       "      <td>2</td>\n",
       "      <td>0.193586</td>\n",
       "      <td>0.920142</td>\n",
       "      <td>0.996710</td>\n",
       "      <td>0.880374</td>\n",
       "      <td>0.210215</td>\n",
       "      <td>0.174958</td>\n",
       "      <td>0.998066</td>\n",
       "      <td>0.881943</td>\n",
       "      <td>1</td>\n",
       "    </tr>\n",
       "    <tr>\n",
       "      <td>3</td>\n",
       "      <td>0.049838</td>\n",
       "      <td>0.920380</td>\n",
       "      <td>0.997855</td>\n",
       "      <td>0.984149</td>\n",
       "      <td>0.054583</td>\n",
       "      <td>0.047267</td>\n",
       "      <td>0.998886</td>\n",
       "      <td>0.976715</td>\n",
       "      <td>0</td>\n",
       "    </tr>\n",
       "    <tr>\n",
       "      <td>4</td>\n",
       "      <td>0.358702</td>\n",
       "      <td>1.000000</td>\n",
       "      <td>0.000000</td>\n",
       "      <td>0.768229</td>\n",
       "      <td>0.390370</td>\n",
       "      <td>0.257425</td>\n",
       "      <td>0.000000</td>\n",
       "      <td>0.843195</td>\n",
       "      <td>0</td>\n",
       "    </tr>\n",
       "  </tbody>\n",
       "</table>\n",
       "</div>"
      ],
      "text/plain": [
       "        ch5       ch7       ch8       ch9      ch10      ch15      ch18  \\\n",
       "0  0.030961  0.923795  0.997378  0.993423  0.033978  0.009908  0.996737   \n",
       "1  0.109903  0.920085  0.999242  0.945558  0.119978  0.118815  0.999314   \n",
       "2  0.193586  0.920142  0.996710  0.880374  0.210215  0.174958  0.998066   \n",
       "3  0.049838  0.920380  0.997855  0.984149  0.054583  0.047267  0.998886   \n",
       "4  0.358702  1.000000  0.000000  0.768229  0.390370  0.257425  0.000000   \n",
       "\n",
       "       ch19  classifier  \n",
       "0  0.996322           0  \n",
       "1  0.926128           0  \n",
       "2  0.881943           1  \n",
       "3  0.976715           0  \n",
       "4  0.843195           0  "
      ]
     },
     "execution_count": 157,
     "metadata": {},
     "output_type": "execute_result"
    }
   ],
   "source": [
    "X=dataset.iloc[:,b]\n",
    "X.head()"
   ]
  },
  {
   "cell_type": "code",
   "execution_count": 158,
   "metadata": {},
   "outputs": [],
   "source": [
    "#splitting Dataset into train & test sets\n",
    "from sklearn.model_selection import train_test_split\n",
    "X_train, X_test, y_train, y_test = train_test_split(X, y, test_size = 0.20, random_state = 0) "
   ]
  },
  {
   "cell_type": "code",
   "execution_count": 159,
   "metadata": {},
   "outputs": [],
   "source": [
    "#applying KNN classifier\n",
    "from sklearn.neighbors import KNeighborsClassifier"
   ]
  },
  {
   "cell_type": "code",
   "execution_count": 160,
   "metadata": {},
   "outputs": [
    {
     "data": {
      "text/plain": [
       "KNeighborsClassifier(algorithm='auto', leaf_size=30, metric='minkowski',\n",
       "                     metric_params=None, n_jobs=None, n_neighbors=9, p=2,\n",
       "                     weights='uniform')"
      ]
     },
     "execution_count": 160,
     "metadata": {},
     "output_type": "execute_result"
    }
   ],
   "source": [
    "classifier=KNeighborsClassifier(n_neighbors=9)\n",
    "classifier"
   ]
  },
  {
   "cell_type": "code",
   "execution_count": 164,
   "metadata": {},
   "outputs": [
    {
     "data": {
      "text/plain": [
       "array([0, 0, 1, 0, 1, 1, 1, 1, 0, 0, 0, 0], dtype=int64)"
      ]
     },
     "execution_count": 164,
     "metadata": {},
     "output_type": "execute_result"
    }
   ],
   "source": [
    "classifier.fit(X_train,y_train)\n",
    "y_pred = classifier.predict(X_test)\n",
    "y_pred"
   ]
  },
  {
   "cell_type": "code",
   "execution_count": 165,
   "metadata": {},
   "outputs": [
    {
     "data": {
      "text/plain": [
       "array([[7, 0],\n",
       "       [0, 5]], dtype=int64)"
      ]
     },
     "execution_count": 165,
     "metadata": {},
     "output_type": "execute_result"
    }
   ],
   "source": [
    "# Making the Confusion Matrix\n",
    "from sklearn.metrics import confusion_matrix\n",
    "cm = confusion_matrix(y_test, y_pred)\n",
    "cm"
   ]
  },
  {
   "cell_type": "code",
   "execution_count": 166,
   "metadata": {},
   "outputs": [
    {
     "name": "stdout",
     "output_type": "stream",
     "text": [
      "[[7 0]\n",
      " [0 5]]\n",
      "Accuracy= 100.0 %\n",
      "Error= 0.0 %\n",
      "Sensitivity= 100.0 %\n",
      "Prediction= 100.0 %\n"
     ]
    }
   ],
   "source": [
    "a=cm[0][0]\n",
    "b=cm[0][1]\n",
    "c=cm[1][0]\n",
    "d=cm[1][1]\n",
    "#calculation Error,Accuracy,Sensitivity and Prediction\n",
    "Err=(b+c)/(a+b+c+d)\n",
    "Acc=(a+d)/(a+b+c+d)\n",
    "SN=a/(a+c)\n",
    "Prec=a/(a+b)\n",
    "print(cm)\n",
    "print('Accuracy=',Acc*100,'%')\n",
    "print('Error=',Err*100,'%')\n",
    "print('Sensitivity=',SN*100,'%')\n",
    "print('Prediction=',Prec*100,'%')"
   ]
  },
  {
   "cell_type": "code",
   "execution_count": null,
   "metadata": {},
   "outputs": [],
   "source": []
  },
  {
   "cell_type": "code",
   "execution_count": null,
   "metadata": {},
   "outputs": [],
   "source": []
  }
 ],
 "metadata": {
  "kernelspec": {
   "display_name": "Python 3",
   "language": "python",
   "name": "python3"
  },
  "language_info": {
   "codemirror_mode": {
    "name": "ipython",
    "version": 3
   },
   "file_extension": ".py",
   "mimetype": "text/x-python",
   "name": "python",
   "nbconvert_exporter": "python",
   "pygments_lexer": "ipython3",
   "version": "3.7.4"
  }
 },
 "nbformat": 4,
 "nbformat_minor": 2
}
