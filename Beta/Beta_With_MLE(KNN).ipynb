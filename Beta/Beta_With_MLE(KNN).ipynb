{
 "cells": [
  {
   "cell_type": "code",
   "execution_count": 79,
   "metadata": {},
   "outputs": [],
   "source": [
    "import numpy as np  \n",
    "import pandas as pd  "
   ]
  },
  {
   "cell_type": "code",
   "execution_count": 167,
   "metadata": {},
   "outputs": [
    {
     "data": {
      "text/html": [
       "<div>\n",
       "<style scoped>\n",
       "    .dataframe tbody tr th:only-of-type {\n",
       "        vertical-align: middle;\n",
       "    }\n",
       "\n",
       "    .dataframe tbody tr th {\n",
       "        vertical-align: top;\n",
       "    }\n",
       "\n",
       "    .dataframe thead th {\n",
       "        text-align: right;\n",
       "    }\n",
       "</style>\n",
       "<table border=\"1\" class=\"dataframe\">\n",
       "  <thead>\n",
       "    <tr style=\"text-align: right;\">\n",
       "      <th></th>\n",
       "      <th>ch1</th>\n",
       "      <th>ch2</th>\n",
       "      <th>ch3</th>\n",
       "      <th>ch4</th>\n",
       "      <th>ch5</th>\n",
       "      <th>ch6</th>\n",
       "      <th>ch7</th>\n",
       "      <th>ch8</th>\n",
       "      <th>ch9</th>\n",
       "      <th>ch10</th>\n",
       "      <th>ch11</th>\n",
       "      <th>ch12</th>\n",
       "      <th>ch13</th>\n",
       "      <th>ch14</th>\n",
       "      <th>ch15</th>\n",
       "      <th>ch16</th>\n",
       "      <th>ch17</th>\n",
       "      <th>ch18</th>\n",
       "      <th>ch19</th>\n",
       "      <th>classifier</th>\n",
       "    </tr>\n",
       "  </thead>\n",
       "  <tbody>\n",
       "    <tr>\n",
       "      <td>0</td>\n",
       "      <td>0.997228</td>\n",
       "      <td>0.991636</td>\n",
       "      <td>0.020212</td>\n",
       "      <td>0.001879</td>\n",
       "      <td>0.001747</td>\n",
       "      <td>0.000000</td>\n",
       "      <td>1.000000</td>\n",
       "      <td>0.000000</td>\n",
       "      <td>1.000000</td>\n",
       "      <td>0.016227</td>\n",
       "      <td>0.998511</td>\n",
       "      <td>1.000000</td>\n",
       "      <td>0.000000</td>\n",
       "      <td>0.001275</td>\n",
       "      <td>0.002419</td>\n",
       "      <td>0.004084</td>\n",
       "      <td>0.995820</td>\n",
       "      <td>0.004137</td>\n",
       "      <td>0.995856</td>\n",
       "      <td>0</td>\n",
       "    </tr>\n",
       "    <tr>\n",
       "      <td>1</td>\n",
       "      <td>0.999394</td>\n",
       "      <td>0.891970</td>\n",
       "      <td>0.169635</td>\n",
       "      <td>0.000148</td>\n",
       "      <td>0.059648</td>\n",
       "      <td>0.281139</td>\n",
       "      <td>0.714566</td>\n",
       "      <td>0.285467</td>\n",
       "      <td>0.714428</td>\n",
       "      <td>0.001671</td>\n",
       "      <td>0.986836</td>\n",
       "      <td>0.783110</td>\n",
       "      <td>0.307584</td>\n",
       "      <td>0.000004</td>\n",
       "      <td>0.009764</td>\n",
       "      <td>0.074500</td>\n",
       "      <td>0.930654</td>\n",
       "      <td>0.069313</td>\n",
       "      <td>0.930645</td>\n",
       "      <td>0</td>\n",
       "    </tr>\n",
       "    <tr>\n",
       "      <td>2</td>\n",
       "      <td>0.994034</td>\n",
       "      <td>0.775770</td>\n",
       "      <td>0.307564</td>\n",
       "      <td>0.000152</td>\n",
       "      <td>0.049832</td>\n",
       "      <td>0.346803</td>\n",
       "      <td>0.655414</td>\n",
       "      <td>0.344628</td>\n",
       "      <td>0.655249</td>\n",
       "      <td>0.001720</td>\n",
       "      <td>0.990870</td>\n",
       "      <td>0.722645</td>\n",
       "      <td>0.369617</td>\n",
       "      <td>0.000011</td>\n",
       "      <td>0.026397</td>\n",
       "      <td>0.231222</td>\n",
       "      <td>0.785573</td>\n",
       "      <td>0.214449</td>\n",
       "      <td>0.785546</td>\n",
       "      <td>1</td>\n",
       "    </tr>\n",
       "    <tr>\n",
       "      <td>3</td>\n",
       "      <td>0.999399</td>\n",
       "      <td>0.959593</td>\n",
       "      <td>0.077738</td>\n",
       "      <td>0.010953</td>\n",
       "      <td>0.012614</td>\n",
       "      <td>0.046372</td>\n",
       "      <td>0.952440</td>\n",
       "      <td>0.047510</td>\n",
       "      <td>0.952477</td>\n",
       "      <td>0.071555</td>\n",
       "      <td>1.000000</td>\n",
       "      <td>0.974375</td>\n",
       "      <td>0.052124</td>\n",
       "      <td>0.000471</td>\n",
       "      <td>0.007039</td>\n",
       "      <td>0.030856</td>\n",
       "      <td>0.970550</td>\n",
       "      <td>0.029390</td>\n",
       "      <td>0.970560</td>\n",
       "      <td>0</td>\n",
       "    </tr>\n",
       "    <tr>\n",
       "      <td>4</td>\n",
       "      <td>0.399202</td>\n",
       "      <td>0.813232</td>\n",
       "      <td>0.320029</td>\n",
       "      <td>0.367169</td>\n",
       "      <td>0.911739</td>\n",
       "      <td>0.227204</td>\n",
       "      <td>0.489325</td>\n",
       "      <td>0.508607</td>\n",
       "      <td>0.491422</td>\n",
       "      <td>0.818887</td>\n",
       "      <td>0.114800</td>\n",
       "      <td>0.623185</td>\n",
       "      <td>0.540137</td>\n",
       "      <td>0.082965</td>\n",
       "      <td>0.387654</td>\n",
       "      <td>0.079419</td>\n",
       "      <td>0.826386</td>\n",
       "      <td>0.171542</td>\n",
       "      <td>0.828787</td>\n",
       "      <td>0</td>\n",
       "    </tr>\n",
       "  </tbody>\n",
       "</table>\n",
       "</div>"
      ],
      "text/plain": [
       "        ch1       ch2       ch3       ch4       ch5       ch6       ch7  \\\n",
       "0  0.997228  0.991636  0.020212  0.001879  0.001747  0.000000  1.000000   \n",
       "1  0.999394  0.891970  0.169635  0.000148  0.059648  0.281139  0.714566   \n",
       "2  0.994034  0.775770  0.307564  0.000152  0.049832  0.346803  0.655414   \n",
       "3  0.999399  0.959593  0.077738  0.010953  0.012614  0.046372  0.952440   \n",
       "4  0.399202  0.813232  0.320029  0.367169  0.911739  0.227204  0.489325   \n",
       "\n",
       "        ch8       ch9      ch10      ch11      ch12      ch13      ch14  \\\n",
       "0  0.000000  1.000000  0.016227  0.998511  1.000000  0.000000  0.001275   \n",
       "1  0.285467  0.714428  0.001671  0.986836  0.783110  0.307584  0.000004   \n",
       "2  0.344628  0.655249  0.001720  0.990870  0.722645  0.369617  0.000011   \n",
       "3  0.047510  0.952477  0.071555  1.000000  0.974375  0.052124  0.000471   \n",
       "4  0.508607  0.491422  0.818887  0.114800  0.623185  0.540137  0.082965   \n",
       "\n",
       "       ch15      ch16      ch17      ch18      ch19  classifier  \n",
       "0  0.002419  0.004084  0.995820  0.004137  0.995856           0  \n",
       "1  0.009764  0.074500  0.930654  0.069313  0.930645           0  \n",
       "2  0.026397  0.231222  0.785573  0.214449  0.785546           1  \n",
       "3  0.007039  0.030856  0.970550  0.029390  0.970560           0  \n",
       "4  0.387654  0.079419  0.826386  0.171542  0.828787           0  "
      ]
     },
     "execution_count": 167,
     "metadata": {},
     "output_type": "execute_result"
    }
   ],
   "source": [
    "#importing Dataset\n",
    "dataset = pd.read_excel(r'F:\\Project\\Machine Learning & Artificial Intelligence\\Project 1-Major Depressive Disorder\\Dataset\\beta_power.xlsx')\n",
    "dataset.head()"
   ]
  },
  {
   "cell_type": "code",
   "execution_count": 168,
   "metadata": {},
   "outputs": [
    {
     "data": {
      "text/html": [
       "<div>\n",
       "<style scoped>\n",
       "    .dataframe tbody tr th:only-of-type {\n",
       "        vertical-align: middle;\n",
       "    }\n",
       "\n",
       "    .dataframe tbody tr th {\n",
       "        vertical-align: top;\n",
       "    }\n",
       "\n",
       "    .dataframe thead th {\n",
       "        text-align: right;\n",
       "    }\n",
       "</style>\n",
       "<table border=\"1\" class=\"dataframe\">\n",
       "  <thead>\n",
       "    <tr style=\"text-align: right;\">\n",
       "      <th></th>\n",
       "      <th>ch1</th>\n",
       "      <th>ch2</th>\n",
       "      <th>ch3</th>\n",
       "      <th>ch4</th>\n",
       "      <th>ch5</th>\n",
       "      <th>ch6</th>\n",
       "      <th>ch7</th>\n",
       "      <th>ch8</th>\n",
       "      <th>ch9</th>\n",
       "      <th>ch10</th>\n",
       "      <th>ch11</th>\n",
       "      <th>ch12</th>\n",
       "      <th>ch13</th>\n",
       "      <th>ch14</th>\n",
       "      <th>ch15</th>\n",
       "      <th>ch16</th>\n",
       "      <th>ch17</th>\n",
       "      <th>ch18</th>\n",
       "      <th>ch19</th>\n",
       "    </tr>\n",
       "  </thead>\n",
       "  <tbody>\n",
       "    <tr>\n",
       "      <td>0</td>\n",
       "      <td>0.997228</td>\n",
       "      <td>0.991636</td>\n",
       "      <td>0.020212</td>\n",
       "      <td>0.001879</td>\n",
       "      <td>0.001747</td>\n",
       "      <td>0.000000</td>\n",
       "      <td>1.000000</td>\n",
       "      <td>0.000000</td>\n",
       "      <td>1.000000</td>\n",
       "      <td>0.016227</td>\n",
       "      <td>0.998511</td>\n",
       "      <td>1.000000</td>\n",
       "      <td>0.000000</td>\n",
       "      <td>0.001275</td>\n",
       "      <td>0.002419</td>\n",
       "      <td>0.004084</td>\n",
       "      <td>0.995820</td>\n",
       "      <td>0.004137</td>\n",
       "      <td>0.995856</td>\n",
       "    </tr>\n",
       "    <tr>\n",
       "      <td>1</td>\n",
       "      <td>0.999394</td>\n",
       "      <td>0.891970</td>\n",
       "      <td>0.169635</td>\n",
       "      <td>0.000148</td>\n",
       "      <td>0.059648</td>\n",
       "      <td>0.281139</td>\n",
       "      <td>0.714566</td>\n",
       "      <td>0.285467</td>\n",
       "      <td>0.714428</td>\n",
       "      <td>0.001671</td>\n",
       "      <td>0.986836</td>\n",
       "      <td>0.783110</td>\n",
       "      <td>0.307584</td>\n",
       "      <td>0.000004</td>\n",
       "      <td>0.009764</td>\n",
       "      <td>0.074500</td>\n",
       "      <td>0.930654</td>\n",
       "      <td>0.069313</td>\n",
       "      <td>0.930645</td>\n",
       "    </tr>\n",
       "    <tr>\n",
       "      <td>2</td>\n",
       "      <td>0.994034</td>\n",
       "      <td>0.775770</td>\n",
       "      <td>0.307564</td>\n",
       "      <td>0.000152</td>\n",
       "      <td>0.049832</td>\n",
       "      <td>0.346803</td>\n",
       "      <td>0.655414</td>\n",
       "      <td>0.344628</td>\n",
       "      <td>0.655249</td>\n",
       "      <td>0.001720</td>\n",
       "      <td>0.990870</td>\n",
       "      <td>0.722645</td>\n",
       "      <td>0.369617</td>\n",
       "      <td>0.000011</td>\n",
       "      <td>0.026397</td>\n",
       "      <td>0.231222</td>\n",
       "      <td>0.785573</td>\n",
       "      <td>0.214449</td>\n",
       "      <td>0.785546</td>\n",
       "    </tr>\n",
       "    <tr>\n",
       "      <td>3</td>\n",
       "      <td>0.999399</td>\n",
       "      <td>0.959593</td>\n",
       "      <td>0.077738</td>\n",
       "      <td>0.010953</td>\n",
       "      <td>0.012614</td>\n",
       "      <td>0.046372</td>\n",
       "      <td>0.952440</td>\n",
       "      <td>0.047510</td>\n",
       "      <td>0.952477</td>\n",
       "      <td>0.071555</td>\n",
       "      <td>1.000000</td>\n",
       "      <td>0.974375</td>\n",
       "      <td>0.052124</td>\n",
       "      <td>0.000471</td>\n",
       "      <td>0.007039</td>\n",
       "      <td>0.030856</td>\n",
       "      <td>0.970550</td>\n",
       "      <td>0.029390</td>\n",
       "      <td>0.970560</td>\n",
       "    </tr>\n",
       "    <tr>\n",
       "      <td>4</td>\n",
       "      <td>0.399202</td>\n",
       "      <td>0.813232</td>\n",
       "      <td>0.320029</td>\n",
       "      <td>0.367169</td>\n",
       "      <td>0.911739</td>\n",
       "      <td>0.227204</td>\n",
       "      <td>0.489325</td>\n",
       "      <td>0.508607</td>\n",
       "      <td>0.491422</td>\n",
       "      <td>0.818887</td>\n",
       "      <td>0.114800</td>\n",
       "      <td>0.623185</td>\n",
       "      <td>0.540137</td>\n",
       "      <td>0.082965</td>\n",
       "      <td>0.387654</td>\n",
       "      <td>0.079419</td>\n",
       "      <td>0.826386</td>\n",
       "      <td>0.171542</td>\n",
       "      <td>0.828787</td>\n",
       "    </tr>\n",
       "  </tbody>\n",
       "</table>\n",
       "</div>"
      ],
      "text/plain": [
       "        ch1       ch2       ch3       ch4       ch5       ch6       ch7  \\\n",
       "0  0.997228  0.991636  0.020212  0.001879  0.001747  0.000000  1.000000   \n",
       "1  0.999394  0.891970  0.169635  0.000148  0.059648  0.281139  0.714566   \n",
       "2  0.994034  0.775770  0.307564  0.000152  0.049832  0.346803  0.655414   \n",
       "3  0.999399  0.959593  0.077738  0.010953  0.012614  0.046372  0.952440   \n",
       "4  0.399202  0.813232  0.320029  0.367169  0.911739  0.227204  0.489325   \n",
       "\n",
       "        ch8       ch9      ch10      ch11      ch12      ch13      ch14  \\\n",
       "0  0.000000  1.000000  0.016227  0.998511  1.000000  0.000000  0.001275   \n",
       "1  0.285467  0.714428  0.001671  0.986836  0.783110  0.307584  0.000004   \n",
       "2  0.344628  0.655249  0.001720  0.990870  0.722645  0.369617  0.000011   \n",
       "3  0.047510  0.952477  0.071555  1.000000  0.974375  0.052124  0.000471   \n",
       "4  0.508607  0.491422  0.818887  0.114800  0.623185  0.540137  0.082965   \n",
       "\n",
       "       ch15      ch16      ch17      ch18      ch19  \n",
       "0  0.002419  0.004084  0.995820  0.004137  0.995856  \n",
       "1  0.009764  0.074500  0.930654  0.069313  0.930645  \n",
       "2  0.026397  0.231222  0.785573  0.214449  0.785546  \n",
       "3  0.007039  0.030856  0.970550  0.029390  0.970560  \n",
       "4  0.387654  0.079419  0.826386  0.171542  0.828787  "
      ]
     },
     "execution_count": 168,
     "metadata": {},
     "output_type": "execute_result"
    }
   ],
   "source": [
    "#seeing the charts\n",
    "X=dataset.iloc[:,0:19]\n",
    "X.head()"
   ]
  },
  {
   "cell_type": "code",
   "execution_count": 169,
   "metadata": {
    "scrolled": true
   },
   "outputs": [
    {
     "data": {
      "text/plain": [
       "0    0\n",
       "1    0\n",
       "2    1\n",
       "3    0\n",
       "4    0\n",
       "Name: classifier, dtype: int64"
      ]
     },
     "execution_count": 169,
     "metadata": {},
     "output_type": "execute_result"
    }
   ],
   "source": [
    "y=dataset.iloc[:,19]\n",
    "y.head()"
   ]
  },
  {
   "cell_type": "code",
   "execution_count": 170,
   "metadata": {},
   "outputs": [],
   "source": [
    "from scipy.stats import norm"
   ]
  },
  {
   "cell_type": "code",
   "execution_count": 171,
   "metadata": {},
   "outputs": [
    {
     "data": {
      "text/plain": [
       "ch1    0.939099\n",
       "ch2    0.740813\n",
       "ch3    0.323429\n",
       "ch4    0.053304\n",
       "ch5    0.103817\n",
       "dtype: float64"
      ]
     },
     "execution_count": 171,
     "metadata": {},
     "output_type": "execute_result"
    }
   ],
   "source": [
    "#Apply MLE as Channel Selection\n",
    "mean=X.mean()\n",
    "mean.head()"
   ]
  },
  {
   "cell_type": "code",
   "execution_count": 172,
   "metadata": {},
   "outputs": [
    {
     "data": {
      "text/plain": [
       "ch1    0.172290\n",
       "ch2    0.255954\n",
       "ch3    0.260466\n",
       "ch4    0.166891\n",
       "ch5    0.198326\n",
       "dtype: float64"
      ]
     },
     "execution_count": 172,
     "metadata": {},
     "output_type": "execute_result"
    }
   ],
   "source": [
    "std=X.std()\n",
    "std.head()"
   ]
  },
  {
   "cell_type": "code",
   "execution_count": 173,
   "metadata": {},
   "outputs": [
    {
     "data": {
      "text/plain": [
       "array([[0.63208895, 0.83644445, 0.12218441, ..., 0.88963112, 0.1106899 ,\n",
       "        0.88930738],\n",
       "       [0.63681677, 0.72259242, 0.27744101, ..., 0.81361995, 0.18718009,\n",
       "        0.81276902],\n",
       "       [0.62507981, 0.55431538, 0.47571437, ..., 0.55937035, 0.44298756,\n",
       "        0.55701189],\n",
       "       ...,\n",
       "       [0.63683323, 0.71390253, 0.28776842, ..., 0.68110186, 0.3206523 ,\n",
       "        0.67940041],\n",
       "       [0.51017793, 0.14174432, 0.8709342 , ..., 0.24410413, 0.75863809,\n",
       "        0.24123842],\n",
       "       [0.61826794, 0.51243702, 0.52165757, ..., 0.32745888, 0.67534671,\n",
       "        0.3244928 ]])"
      ]
     },
     "execution_count": 173,
     "metadata": {},
     "output_type": "execute_result"
    }
   ],
   "source": [
    "normal=norm.cdf(X,loc=mean,scale=std)\n",
    "normal"
   ]
  },
  {
   "cell_type": "code",
   "execution_count": 174,
   "metadata": {},
   "outputs": [
    {
     "data": {
      "text/html": [
       "<div>\n",
       "<style scoped>\n",
       "    .dataframe tbody tr th:only-of-type {\n",
       "        vertical-align: middle;\n",
       "    }\n",
       "\n",
       "    .dataframe tbody tr th {\n",
       "        vertical-align: top;\n",
       "    }\n",
       "\n",
       "    .dataframe thead th {\n",
       "        text-align: right;\n",
       "    }\n",
       "</style>\n",
       "<table border=\"1\" class=\"dataframe\">\n",
       "  <thead>\n",
       "    <tr style=\"text-align: right;\">\n",
       "      <th></th>\n",
       "      <th>0</th>\n",
       "      <th>1</th>\n",
       "      <th>2</th>\n",
       "      <th>3</th>\n",
       "      <th>4</th>\n",
       "      <th>5</th>\n",
       "      <th>6</th>\n",
       "      <th>7</th>\n",
       "      <th>8</th>\n",
       "      <th>9</th>\n",
       "      <th>10</th>\n",
       "      <th>11</th>\n",
       "      <th>12</th>\n",
       "      <th>13</th>\n",
       "      <th>14</th>\n",
       "      <th>15</th>\n",
       "      <th>16</th>\n",
       "      <th>17</th>\n",
       "      <th>18</th>\n",
       "    </tr>\n",
       "  </thead>\n",
       "  <tbody>\n",
       "    <tr>\n",
       "      <td>0</td>\n",
       "      <td>0.632089</td>\n",
       "      <td>0.836444</td>\n",
       "      <td>0.122184</td>\n",
       "      <td>0.378989</td>\n",
       "      <td>0.303395</td>\n",
       "      <td>0.095535</td>\n",
       "      <td>0.910741</td>\n",
       "      <td>0.089360</td>\n",
       "      <td>0.910648</td>\n",
       "      <td>0.363927</td>\n",
       "      <td>0.627514</td>\n",
       "      <td>0.878593</td>\n",
       "      <td>0.082270</td>\n",
       "      <td>0.402453</td>\n",
       "      <td>0.336392</td>\n",
       "      <td>0.119689</td>\n",
       "      <td>0.889631</td>\n",
       "      <td>0.110690</td>\n",
       "      <td>0.889307</td>\n",
       "    </tr>\n",
       "    <tr>\n",
       "      <td>1</td>\n",
       "      <td>0.636817</td>\n",
       "      <td>0.722592</td>\n",
       "      <td>0.277441</td>\n",
       "      <td>0.375049</td>\n",
       "      <td>0.411880</td>\n",
       "      <td>0.453215</td>\n",
       "      <td>0.566884</td>\n",
       "      <td>0.433543</td>\n",
       "      <td>0.566373</td>\n",
       "      <td>0.343250</td>\n",
       "      <td>0.604612</td>\n",
       "      <td>0.593725</td>\n",
       "      <td>0.440658</td>\n",
       "      <td>0.399588</td>\n",
       "      <td>0.351009</td>\n",
       "      <td>0.201827</td>\n",
       "      <td>0.813620</td>\n",
       "      <td>0.187180</td>\n",
       "      <td>0.812769</td>\n",
       "    </tr>\n",
       "    <tr>\n",
       "      <td>2</td>\n",
       "      <td>0.625080</td>\n",
       "      <td>0.554315</td>\n",
       "      <td>0.475714</td>\n",
       "      <td>0.375059</td>\n",
       "      <td>0.392733</td>\n",
       "      <td>0.563705</td>\n",
       "      <td>0.469930</td>\n",
       "      <td>0.530544</td>\n",
       "      <td>0.469358</td>\n",
       "      <td>0.343319</td>\n",
       "      <td>0.612570</td>\n",
       "      <td>0.491079</td>\n",
       "      <td>0.540191</td>\n",
       "      <td>0.399604</td>\n",
       "      <td>0.384904</td>\n",
       "      <td>0.470027</td>\n",
       "      <td>0.559370</td>\n",
       "      <td>0.442988</td>\n",
       "      <td>0.557012</td>\n",
       "    </tr>\n",
       "    <tr>\n",
       "      <td>3</td>\n",
       "      <td>0.636827</td>\n",
       "      <td>0.803658</td>\n",
       "      <td>0.172770</td>\n",
       "      <td>0.399838</td>\n",
       "      <td>0.322807</td>\n",
       "      <td>0.133250</td>\n",
       "      <td>0.874771</td>\n",
       "      <td>0.125327</td>\n",
       "      <td>0.874678</td>\n",
       "      <td>0.445697</td>\n",
       "      <td>0.630404</td>\n",
       "      <td>0.854974</td>\n",
       "      <td>0.119057</td>\n",
       "      <td>0.400641</td>\n",
       "      <td>0.345560</td>\n",
       "      <td>0.147612</td>\n",
       "      <td>0.863316</td>\n",
       "      <td>0.137142</td>\n",
       "      <td>0.862806</td>\n",
       "    </tr>\n",
       "    <tr>\n",
       "      <td>4</td>\n",
       "      <td>0.000863</td>\n",
       "      <td>0.611387</td>\n",
       "      <td>0.494793</td>\n",
       "      <td>0.969990</td>\n",
       "      <td>0.999977</td>\n",
       "      <td>0.364742</td>\n",
       "      <td>0.223551</td>\n",
       "      <td>0.774257</td>\n",
       "      <td>0.225890</td>\n",
       "      <td>0.996731</td>\n",
       "      <td>0.000013</td>\n",
       "      <td>0.326636</td>\n",
       "      <td>0.784861</td>\n",
       "      <td>0.590642</td>\n",
       "      <td>0.951698</td>\n",
       "      <td>0.208608</td>\n",
       "      <td>0.639862</td>\n",
       "      <td>0.358068</td>\n",
       "      <td>0.642571</td>\n",
       "    </tr>\n",
       "  </tbody>\n",
       "</table>\n",
       "</div>"
      ],
      "text/plain": [
       "          0         1         2         3         4         5         6  \\\n",
       "0  0.632089  0.836444  0.122184  0.378989  0.303395  0.095535  0.910741   \n",
       "1  0.636817  0.722592  0.277441  0.375049  0.411880  0.453215  0.566884   \n",
       "2  0.625080  0.554315  0.475714  0.375059  0.392733  0.563705  0.469930   \n",
       "3  0.636827  0.803658  0.172770  0.399838  0.322807  0.133250  0.874771   \n",
       "4  0.000863  0.611387  0.494793  0.969990  0.999977  0.364742  0.223551   \n",
       "\n",
       "          7         8         9        10        11        12        13  \\\n",
       "0  0.089360  0.910648  0.363927  0.627514  0.878593  0.082270  0.402453   \n",
       "1  0.433543  0.566373  0.343250  0.604612  0.593725  0.440658  0.399588   \n",
       "2  0.530544  0.469358  0.343319  0.612570  0.491079  0.540191  0.399604   \n",
       "3  0.125327  0.874678  0.445697  0.630404  0.854974  0.119057  0.400641   \n",
       "4  0.774257  0.225890  0.996731  0.000013  0.326636  0.784861  0.590642   \n",
       "\n",
       "         14        15        16        17        18  \n",
       "0  0.336392  0.119689  0.889631  0.110690  0.889307  \n",
       "1  0.351009  0.201827  0.813620  0.187180  0.812769  \n",
       "2  0.384904  0.470027  0.559370  0.442988  0.557012  \n",
       "3  0.345560  0.147612  0.863316  0.137142  0.862806  \n",
       "4  0.951698  0.208608  0.639862  0.358068  0.642571  "
      ]
     },
     "execution_count": 174,
     "metadata": {},
     "output_type": "execute_result"
    }
   ],
   "source": [
    "df=pd.DataFrame(normal)\n",
    "df.head()"
   ]
  },
  {
   "cell_type": "code",
   "execution_count": 175,
   "metadata": {},
   "outputs": [
    {
     "data": {
      "text/plain": [
       "0     4.822760e-29\n",
       "1     8.879475e-28\n",
       "2     8.275768e-26\n",
       "3     2.727212e-23\n",
       "4     2.188539e-23\n",
       "5     7.479594e-26\n",
       "6     2.618666e-27\n",
       "7     5.970696e-26\n",
       "8     2.605714e-27\n",
       "9     3.980145e-24\n",
       "10    5.486302e-29\n",
       "11    1.401905e-27\n",
       "12    4.336885e-26\n",
       "13    1.267191e-22\n",
       "14    6.404853e-23\n",
       "15    1.057853e-25\n",
       "16    1.727859e-27\n",
       "17    1.218766e-25\n",
       "18    1.684387e-27\n",
       "dtype: float64"
      ]
     },
     "execution_count": 175,
     "metadata": {},
     "output_type": "execute_result"
    }
   ],
   "source": [
    "lh=np.product(df)\n",
    "lh"
   ]
  },
  {
   "cell_type": "code",
   "execution_count": 176,
   "metadata": {},
   "outputs": [
    {
     "data": {
      "text/plain": [
       "0    -65.201621\n",
       "1    -62.288640\n",
       "2    -57.753881\n",
       "3    -51.956177\n",
       "4    -52.176223\n",
       "5    -57.855034\n",
       "6    -61.207132\n",
       "7    -58.080349\n",
       "8    -61.212091\n",
       "9    -53.880724\n",
       "10   -65.072713\n",
       "11   -61.831965\n",
       "12   -58.400056\n",
       "13   -50.420069\n",
       "14   -51.102401\n",
       "15   -57.508386\n",
       "16   -61.622915\n",
       "17   -57.366789\n",
       "18   -61.648396\n",
       "dtype: float64"
      ]
     },
     "execution_count": 176,
     "metadata": {},
     "output_type": "execute_result"
    }
   ],
   "source": [
    "llh=np.log(lh)\n",
    "llh"
   ]
  },
  {
   "cell_type": "code",
   "execution_count": 177,
   "metadata": {},
   "outputs": [
    {
     "data": {
      "text/plain": [
       "-58.080348908993116"
      ]
     },
     "execution_count": 177,
     "metadata": {},
     "output_type": "execute_result"
    }
   ],
   "source": [
    "median=llh.median()\n",
    "median"
   ]
  },
  {
   "cell_type": "code",
   "execution_count": 178,
   "metadata": {},
   "outputs": [],
   "source": [
    "llh=abs(llh)\n",
    "median=abs(median)\n",
    "c=llh.count()\n",
    "n=int(c)\n",
    "a=[]\n",
    "b=[]\n",
    "k=1\n",
    "for i in range(1, n+1):\n",
    "\ta.append(i)\n",
    "if c>10:\n",
    "   ax=5\n",
    "else:\n",
    "   ax=1     "
   ]
  },
  {
   "cell_type": "code",
   "execution_count": 179,
   "metadata": {},
   "outputs": [
    {
     "data": {
      "image/png": "[encoded data removed]",
      "text/plain": [
       "<Figure size 432x288 with 1 Axes>"
      ]
     },
     "metadata": {
      "needs_background": "light"
     },
     "output_type": "display_data"
    }
   ],
   "source": [
    "import matplotlib.pyplot as plt  \n",
    "plt.plot(a,llh, marker='o')\n",
    "plt.xticks(np.arange(0, c+ax,ax))\n",
    "plt.show()"
   ]
  },
  {
   "cell_type": "code",
   "execution_count": 180,
   "metadata": {},
   "outputs": [
    {
     "name": "stdout",
     "output_type": "stream",
     "text": [
      "8  features/attributes selected\n",
      "[2, 7, 9, 11, 12, 13, 17, 19] indices are selected\n"
     ]
    }
   ],
   "source": [
    "for j in range(1, n):\n",
    "    if llh[j]>median:\n",
    "        m=a[j]\n",
    "        b.insert(k,m)\n",
    "        k=k+1\n",
    "print(k-1, \" features/attributes selected\")\n",
    "print(b, \"indices are selected\")"
   ]
  },
  {
   "cell_type": "code",
   "execution_count": 181,
   "metadata": {},
   "outputs": [
    {
     "data": {
      "text/html": [
       "<div>\n",
       "<style scoped>\n",
       "    .dataframe tbody tr th:only-of-type {\n",
       "        vertical-align: middle;\n",
       "    }\n",
       "\n",
       "    .dataframe tbody tr th {\n",
       "        vertical-align: top;\n",
       "    }\n",
       "\n",
       "    .dataframe thead th {\n",
       "        text-align: right;\n",
       "    }\n",
       "</style>\n",
       "<table border=\"1\" class=\"dataframe\">\n",
       "  <thead>\n",
       "    <tr style=\"text-align: right;\">\n",
       "      <th></th>\n",
       "      <th>ch3</th>\n",
       "      <th>ch8</th>\n",
       "      <th>ch10</th>\n",
       "      <th>ch12</th>\n",
       "      <th>ch13</th>\n",
       "      <th>ch14</th>\n",
       "      <th>ch18</th>\n",
       "      <th>classifier</th>\n",
       "    </tr>\n",
       "  </thead>\n",
       "  <tbody>\n",
       "    <tr>\n",
       "      <td>0</td>\n",
       "      <td>0.020212</td>\n",
       "      <td>0.000000</td>\n",
       "      <td>0.016227</td>\n",
       "      <td>1.000000</td>\n",
       "      <td>0.000000</td>\n",
       "      <td>0.001275</td>\n",
       "      <td>0.004137</td>\n",
       "      <td>0</td>\n",
       "    </tr>\n",
       "    <tr>\n",
       "      <td>1</td>\n",
       "      <td>0.169635</td>\n",
       "      <td>0.285467</td>\n",
       "      <td>0.001671</td>\n",
       "      <td>0.783110</td>\n",
       "      <td>0.307584</td>\n",
       "      <td>0.000004</td>\n",
       "      <td>0.069313</td>\n",
       "      <td>0</td>\n",
       "    </tr>\n",
       "    <tr>\n",
       "      <td>2</td>\n",
       "      <td>0.307564</td>\n",
       "      <td>0.344628</td>\n",
       "      <td>0.001720</td>\n",
       "      <td>0.722645</td>\n",
       "      <td>0.369617</td>\n",
       "      <td>0.000011</td>\n",
       "      <td>0.214449</td>\n",
       "      <td>1</td>\n",
       "    </tr>\n",
       "    <tr>\n",
       "      <td>3</td>\n",
       "      <td>0.077738</td>\n",
       "      <td>0.047510</td>\n",
       "      <td>0.071555</td>\n",
       "      <td>0.974375</td>\n",
       "      <td>0.052124</td>\n",
       "      <td>0.000471</td>\n",
       "      <td>0.029390</td>\n",
       "      <td>0</td>\n",
       "    </tr>\n",
       "    <tr>\n",
       "      <td>4</td>\n",
       "      <td>0.320029</td>\n",
       "      <td>0.508607</td>\n",
       "      <td>0.818887</td>\n",
       "      <td>0.623185</td>\n",
       "      <td>0.540137</td>\n",
       "      <td>0.082965</td>\n",
       "      <td>0.171542</td>\n",
       "      <td>0</td>\n",
       "    </tr>\n",
       "  </tbody>\n",
       "</table>\n",
       "</div>"
      ],
      "text/plain": [
       "        ch3       ch8      ch10      ch12      ch13      ch14      ch18  \\\n",
       "0  0.020212  0.000000  0.016227  1.000000  0.000000  0.001275  0.004137   \n",
       "1  0.169635  0.285467  0.001671  0.783110  0.307584  0.000004  0.069313   \n",
       "2  0.307564  0.344628  0.001720  0.722645  0.369617  0.000011  0.214449   \n",
       "3  0.077738  0.047510  0.071555  0.974375  0.052124  0.000471  0.029390   \n",
       "4  0.320029  0.508607  0.818887  0.623185  0.540137  0.082965  0.171542   \n",
       "\n",
       "   classifier  \n",
       "0           0  \n",
       "1           0  \n",
       "2           1  \n",
       "3           0  \n",
       "4           0  "
      ]
     },
     "execution_count": 181,
     "metadata": {},
     "output_type": "execute_result"
    }
   ],
   "source": [
    "X=dataset.iloc[:,b]\n",
    "X.head()"
   ]
  },
  {
   "cell_type": "code",
   "execution_count": 182,
   "metadata": {},
   "outputs": [],
   "source": [
    "#splitting Dataset into train & test sets\n",
    "from sklearn.model_selection import train_test_split\n",
    "X_train, X_test, y_train, y_test = train_test_split(X, y, test_size = 0.20, random_state = 0) "
   ]
  },
  {
   "cell_type": "code",
   "execution_count": 183,
   "metadata": {},
   "outputs": [],
   "source": [
    "#applying KNN classifier\n",
    "from sklearn.neighbors import KNeighborsClassifier"
   ]
  },
  {
   "cell_type": "code",
   "execution_count": 184,
   "metadata": {},
   "outputs": [
    {
     "data": {
      "text/plain": [
       "KNeighborsClassifier(algorithm='auto', leaf_size=30, metric='minkowski',\n",
       "                     metric_params=None, n_jobs=None, n_neighbors=9, p=2,\n",
       "                     weights='uniform')"
      ]
     },
     "execution_count": 184,
     "metadata": {},
     "output_type": "execute_result"
    }
   ],
   "source": [
    "classifier=KNeighborsClassifier(n_neighbors=9)\n",
    "classifier"
   ]
  },
  {
   "cell_type": "code",
   "execution_count": 188,
   "metadata": {},
   "outputs": [
    {
     "data": {
      "text/plain": [
       "array([0, 0, 1, 0, 1, 1, 1, 1, 0, 0, 0, 0], dtype=int64)"
      ]
     },
     "execution_count": 188,
     "metadata": {},
     "output_type": "execute_result"
    }
   ],
   "source": [
    "classifier.fit(X_train,y_train)\n",
    "y_pred = classifier.predict(X_test)\n",
    "y_pred"
   ]
  },
  {
   "cell_type": "code",
   "execution_count": 186,
   "metadata": {},
   "outputs": [
    {
     "data": {
      "text/plain": [
       "array([[7, 0],\n",
       "       [0, 5]], dtype=int64)"
      ]
     },
     "execution_count": 186,
     "metadata": {},
     "output_type": "execute_result"
    }
   ],
   "source": [
    "# Making the Confusion Matrix\n",
    "from sklearn.metrics import confusion_matrix\n",
    "cm = confusion_matrix(y_test, y_pred)\n",
    "cm"
   ]
  },
  {
   "cell_type": "code",
   "execution_count": 187,
   "metadata": {},
   "outputs": [
    {
     "name": "stdout",
     "output_type": "stream",
     "text": [
      "[[7 0]\n",
      " [0 5]]\n",
      "Accuracy= 100.0 %\n",
      "Error= 0.0 %\n",
      "Sensitivity= 100.0 %\n",
      "Prediction= 100.0 %\n"
     ]
    }
   ],
   "source": [
    "a=cm[0][0]\n",
    "b=cm[0][1]\n",
    "c=cm[1][0]\n",
    "d=cm[1][1]\n",
    "#calculation Error,Accuracy,Sensitivity and Prediction\n",
    "Err=(b+c)/(a+b+c+d)\n",
    "Acc=(a+d)/(a+b+c+d)\n",
    "SN=a/(a+c)\n",
    "Prec=a/(a+b)\n",
    "print(cm)\n",
    "print('Accuracy=',Acc*100,'%')\n",
    "print('Error=',Err*100,'%')\n",
    "print('Sensitivity=',SN*100,'%')\n",
    "print('Prediction=',Prec*100,'%')"
   ]
  },
  {
   "cell_type": "code",
   "execution_count": null,
   "metadata": {},
   "outputs": [],
   "source": []
  },
  {
   "cell_type": "code",
   "execution_count": null,
   "metadata": {},
   "outputs": [],
   "source": []
  }
 ],
 "metadata": {
  "kernelspec": {
   "display_name": "Python 3",
   "language": "python",
   "name": "python3"
  },
  "language_info": {
   "codemirror_mode": {
    "name": "ipython",
    "version": 3
   },
   "file_extension": ".py",
   "mimetype": "text/x-python",
   "name": "python",
   "nbconvert_exporter": "python",
   "pygments_lexer": "ipython3",
   "version": "3.7.4"
  }
 },
 "nbformat": 4,
 "nbformat_minor": 2
}
